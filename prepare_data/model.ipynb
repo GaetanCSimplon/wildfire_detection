{
 "cells": [
  {
   "cell_type": "markdown",
   "id": "d80884c6",
   "metadata": {},
   "source": [
    "# Choix du modèle\n",
    "\n",
    "- **Quel(s) type(s) de modèle(s) permet(tent) de répondre à la problématique du projet ?** </br>\n",
    "\n",
    "Les modèles de détection d'objets comme YOLO, Faster R-CNN ou SSD (Single Shot Detector). Pour notre projet YOLOv5 ou v8 conviennnent.\n",
    "- **Quelles sont les spécificités d’un modèle pré-entraîné ?**</br>\n",
    "\n",
    "Le modèle a déjà appris à détecter des motifs généraux, ce qui permet de ne pas partir de zéro, ça nécessite donc moins de données et représente un gain de temps.\n",
    "- **Quelles sont les principales différences architecturales entre un CPU et un GPU ? Comment est équipé votre ordinateur ?**</br>\n",
    "\n",
    "CPU (Central Processing Unit) -> Optimisé pour des tâches séquentielles complexes, idéal pour la logique, pas pour le deep learning </br>\n",
    "GPU (Graphics Processing Unit) -> Optimisé pour du calcul parallèle massif, idéal pour l'entraînement de réseaux neuronaux. </br>\n",
    "- **Comment la vitesse d'entraînement de YOLO varie-t-elle entre CPU et GPU ?**</br>\n",
    "\n",
    "Sur CPU, très lent (plusieurs heures voire jours). Sur GPU, beaucoup plus rapide qu'un CPU.\n",
    "- **Quels modèles privilégier pour notre problématique en prenant en compte la taille du dataset ? Les contraintes de ressources d'entraînement ?**</br>\n",
    "\n",
    "Petit dataset (<5k images) -> YOLOv5/v8 small/medium, fine-tuning seulement en dernières couches. </br>\n",
    "Dataset moyen (5k-50k images) -> YOLOv5 medium/large si GPU dispo </br>\n",
    "Gros dataset (>100k images) -> YOLOv8 large, Faster R-CNN, nécessite plusieurs GPU.\n",
    "- **Quelles solutions existent pour adapter la taille de notre dataset si c’est nécessaire au modèle ?**</br>\n",
    "\n",
    "**Si le dataset est trop petit :**</br>\n",
    "\n",
    "Data augmentation : rotation, flip, zoom, bruit, changement de luminosité.\n",
    "Transfer learning : utiliser un modèle pré-entraîné.\n",
    "Synthetic data : générer des images artificielles (par ex. rajouter des flammes sur images avec Stable Diffusion).\n",
    "\n",
    "**Si le dataset est trop grand (et peu de ressources) :**</br>\n",
    "Sous-échantillonnage : prendre une partie représentative.\n",
    "Label filtering : ne garder que les classes utiles (par ex. ignorer \"person\", \"car\").\n",
    "Mixed precision training : réduire la mémoire GPU utilisée.\n"
   ]
  },
  {
   "cell_type": "markdown",
   "id": "5166171b",
   "metadata": {},
   "source": [
    "## Métriques\n",
    "Choix du modèle -> YOLOv5 small\n",
    "| Métrique                          | Ce qu’elle mesure                              | Concrètement pour le projet                                  | Importance métier | Remarques                                                                          |\n",
    "| --------------------------------- | ---------------------------------------------- | ------------------------------------------------------------ | ----------------- | ---------------------------------------------------------------------------------- |\n",
    "| **Recall / Rappel**               | Proportion de feux réels détectés              | % de feux réellement présents que le modèle détecte          | 🔴 Très élevé     | Priorité : éviter de rater un feu                                                  |\n",
    "| **Precision / Précision**         | Proportion de prédictions correctes            | % de zones prédites comme feu qui sont réellement des feux   | 🟡 Moyen à élevé  | Trop de faux positifs → alertes inutiles mais moins critique qu’un feu non détecté |\n",
    "| **IoU (Intersection over Union)** | Qualité du chevauchement bbox prédite / réelle | Mesure si la bbox couvre correctement le feu                 | 🟡 Moyen          | Seuil (ex : IoU ≥ 0.5) pour considérer une détection comme vraie positive          |\n",
    "| **mAP (mean Average Precision)**  | Performance globale du modèle                  | Moyenne de la précision sur différents seuils IoU            | 🟢 Moyen          | Utile pour comparer différents modèles ou configurations                           |\n",
    "| **F1-score**                      | Compromis entre précision et rappel            | Balance entre éviter faux positifs et détecter tous les feux | 🟢 Moyen          | Optionnel si on veut un indicateur unique                                          |\n",
    "| **FPS / Temps d’inférence**       | Rapidité du modèle                             | Nombre d’images traitées par seconde                         | 🟢 Moyen          | Important si on veut un système quasi‑temps réel                                   |\n"
   ]
  },
  {
   "cell_type": "code",
   "execution_count": null,
   "id": "8a641d16",
   "metadata": {},
   "outputs": [],
   "source": []
  }
 ],
 "metadata": {
  "kernelspec": {
   "display_name": ".venv",
   "language": "python",
   "name": "python3"
  },
  "language_info": {
   "codemirror_mode": {
    "name": "ipython",
    "version": 3
   },
   "file_extension": ".py",
   "mimetype": "text/x-python",
   "name": "python",
   "nbconvert_exporter": "python",
   "pygments_lexer": "ipython3",
   "version": "3.12.3"
  }
 },
 "nbformat": 4,
 "nbformat_minor": 5
}
