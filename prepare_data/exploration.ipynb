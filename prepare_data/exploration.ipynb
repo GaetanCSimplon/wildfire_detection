{
 "cells": [
  {
   "cell_type": "markdown",
   "id": "0ea6fd76",
   "metadata": {},
   "source": [
    "# Partie 1 & 2 - Exploration des données"
   ]
  },
  {
   "cell_type": "markdown",
   "id": "cf400dca",
   "metadata": {},
   "source": [
    "## Import des librairies"
   ]
  },
  {
   "cell_type": "code",
   "execution_count": 1,
   "id": "e3241411",
   "metadata": {},
   "outputs": [],
   "source": [
    "import json\n",
    "import pandas as pd\n",
    "import matplotlib as plt"
   ]
  },
  {
   "cell_type": "markdown",
   "id": "f35ba4be",
   "metadata": {},
   "source": [
    "## Partie 1 - Chargement des données\n",
    "### Fichiers de références :\n",
    "- prepare_data/data_loader.py"
   ]
  },
  {
   "cell_type": "markdown",
   "id": "5fc80c9f",
   "metadata": {},
   "source": [
    "### Chargement des données\n",
    "- Format de données : coco.json\n",
    "-> Appel de la fonction load_coco_json contenu dans le module data_loader.py\n",
    "- Adapte le chemin du fichier coco.json par rapport à ton espace de travail"
   ]
  },
  {
   "cell_type": "code",
   "execution_count": 2,
   "id": "90a0bd92",
   "metadata": {},
   "outputs": [
    {
     "name": "stdout",
     "output_type": "stream",
     "text": [
      "dict_keys(['info', 'licenses', 'categories', 'images', 'annotations'])\n"
     ]
    },
    {
     "data": {
      "text/plain": [
       "'Image 1 :'"
      ]
     },
     "metadata": {},
     "output_type": "display_data"
    },
    {
     "data": {
      "text/plain": [
       "[{'id': 0,\n",
       "  'license': 1,\n",
       "  'file_name': 'cl6e1qges001kgk555z158f33_2_FALSE_COLOR_jpg.rf.479904c9e54c6ba121689341598bf3ed.jpg',\n",
       "  'height': 860,\n",
       "  'width': 1200,\n",
       "  'date_captured': '2025-09-14T12:06:19+00:00',\n",
       "  'extra': {'name': 'cl6e1qges001kgk555z158f33_2_FALSE_COLOR.jpg'}}]"
      ]
     },
     "metadata": {},
     "output_type": "display_data"
    },
    {
     "data": {
      "text/plain": [
       "'Annotation 1 :'"
      ]
     },
     "metadata": {},
     "output_type": "display_data"
    },
    {
     "data": {
      "text/plain": [
       "[{'id': 0,\n",
       "  'image_id': 1,\n",
       "  'category_id': 1,\n",
       "  'bbox': [277, 207, 568.95, 591.79],\n",
       "  'area': 336698.921,\n",
       "  'segmentation': [],\n",
       "  'iscrowd': 0}]"
      ]
     },
     "metadata": {},
     "output_type": "display_data"
    },
    {
     "data": {
      "text/plain": [
       "'Catégories : '"
      ]
     },
     "metadata": {},
     "output_type": "display_data"
    },
    {
     "data": {
      "text/plain": [
       "[{'id': 0, 'name': 'wildfire', 'supercategory': 'none'},\n",
       " {'id': 1, 'name': 'fire', 'supercategory': 'wildfire'}]"
      ]
     },
     "metadata": {},
     "output_type": "display_data"
    }
   ],
   "source": [
    "from data_loader import load_coco_json\n",
    "\n",
    "coco_data = load_coco_json('/home/gaetansimplon/wildfire_detection/data/_annotations.coco.json')\n",
    "\n",
    "\n",
    "# Affichage des clés\n",
    "print(coco_data.keys())\n",
    "\n",
    "# Affichage 1ère image\n",
    "display('Image 1 :', coco_data['images'][:1])\n",
    "# Affichage 1ère annotation\n",
    "display('Annotation 1 :', coco_data['annotations'][:1])\n",
    "# Affichage catégories\n",
    "display('Catégories : ', coco_data['categories'])\n"
   ]
  },
  {
   "cell_type": "code",
   "execution_count": 3,
   "id": "d59966ff",
   "metadata": {},
   "outputs": [
    {
     "data": {
      "application/vnd.microsoft.datawrangler.viewer.v0+json": {
       "columns": [
        {
         "name": "index",
         "rawType": "int64",
         "type": "integer"
        },
        {
         "name": "id",
         "rawType": "int64",
         "type": "integer"
        },
        {
         "name": "name",
         "rawType": "object",
         "type": "string"
        },
        {
         "name": "supercategory",
         "rawType": "object",
         "type": "string"
        }
       ],
       "ref": "10d9599e-2544-4e55-845d-fdb4af9f40f1",
       "rows": [
        [
         "0",
         "0",
         "wildfire",
         "none"
        ],
        [
         "1",
         "1",
         "fire",
         "wildfire"
        ]
       ],
       "shape": {
        "columns": 3,
        "rows": 2
       }
      },
      "text/html": [
       "<div>\n",
       "<style scoped>\n",
       "    .dataframe tbody tr th:only-of-type {\n",
       "        vertical-align: middle;\n",
       "    }\n",
       "\n",
       "    .dataframe tbody tr th {\n",
       "        vertical-align: top;\n",
       "    }\n",
       "\n",
       "    .dataframe thead th {\n",
       "        text-align: right;\n",
       "    }\n",
       "</style>\n",
       "<table border=\"1\" class=\"dataframe\">\n",
       "  <thead>\n",
       "    <tr style=\"text-align: right;\">\n",
       "      <th></th>\n",
       "      <th>id</th>\n",
       "      <th>name</th>\n",
       "      <th>supercategory</th>\n",
       "    </tr>\n",
       "  </thead>\n",
       "  <tbody>\n",
       "    <tr>\n",
       "      <th>0</th>\n",
       "      <td>0</td>\n",
       "      <td>wildfire</td>\n",
       "      <td>none</td>\n",
       "    </tr>\n",
       "    <tr>\n",
       "      <th>1</th>\n",
       "      <td>1</td>\n",
       "      <td>fire</td>\n",
       "      <td>wildfire</td>\n",
       "    </tr>\n",
       "  </tbody>\n",
       "</table>\n",
       "</div>"
      ],
      "text/plain": [
       "   id      name supercategory\n",
       "0   0  wildfire          none\n",
       "1   1      fire      wildfire"
      ]
     },
     "metadata": {},
     "output_type": "display_data"
    },
    {
     "data": {
      "text/plain": [
       "array([1])"
      ]
     },
     "metadata": {},
     "output_type": "display_data"
    }
   ],
   "source": [
    "# Vérification des catégories\n",
    "categories = pd.DataFrame(coco_data['categories'])\n",
    "display(categories)\n",
    "# 0 = wildfire / 1 = Fire\n",
    "\n",
    "# Dénombrement du nombre d'annotations avec comme catégorie wildfire\n",
    "annotations = pd.DataFrame(coco_data['annotations'])\n",
    "display(annotations['category_id'].unique())\n",
    "# Il n'y a aucune annotation avec la catégorie wildfire.\n"
   ]
  },
  {
   "cell_type": "markdown",
   "id": "94ca2331",
   "metadata": {},
   "source": [
    "### Mise en Dataframe\n",
    "Etapes :\n",
    "- Mettre en dataframe chaque liste du json en dataframes distincts ('images', 'annotations' et 'categories)\n",
    "- Fusionner les annotations avec les informations des images\n",
    "- Ajouter le nom de la catégories à chaque annotations\n",
    "\n",
    "Données filtrées :\n",
    "- id_ann -> id de l'annotation\n",
    "- image_id -> id de l'image correspondante\n",
    "- category_id -> id de la catégorie\n",
    "- bbox -> coordonnées de la boîte englobante [x, y, largeur (width), hauteur(height)]\n",
    "- area -> Surface de l'objet annoté en pixel (width*height)\n",
    "- segmentation -> Liste de points décrivant la forme exacte de l'objet\n",
    "- iscrowd -> Indique si l'objet fait partie d'un groupe dense (=1) ou isolé (=0)\n",
    "- file_name -> nom du fichier image\n",
    "- width / height -> Dimension de l'image en pixel\n",
    "- id -> Indentifiant interne au dataframe\n",
    "- category_name -> nom de la catégorie (ex: feu)\n",
    "\n"
   ]
  },
  {
   "cell_type": "code",
   "execution_count": 4,
   "id": "a2889f6e",
   "metadata": {},
   "outputs": [
    {
     "data": {
      "text/plain": [
       "pandas.core.frame.DataFrame"
      ]
     },
     "metadata": {},
     "output_type": "display_data"
    },
    {
     "data": {
      "application/vnd.microsoft.datawrangler.viewer.v0+json": {
       "columns": [
        {
         "name": "index",
         "rawType": "int64",
         "type": "integer"
        },
        {
         "name": "id_ann",
         "rawType": "int64",
         "type": "integer"
        },
        {
         "name": "image_id",
         "rawType": "int64",
         "type": "integer"
        },
        {
         "name": "bbox",
         "rawType": "object",
         "type": "unknown"
        },
        {
         "name": "area",
         "rawType": "float64",
         "type": "float"
        },
        {
         "name": "segmentation",
         "rawType": "object",
         "type": "unknown"
        },
        {
         "name": "iscrowd",
         "rawType": "int64",
         "type": "integer"
        },
        {
         "name": "file_name",
         "rawType": "object",
         "type": "string"
        },
        {
         "name": "width",
         "rawType": "int64",
         "type": "integer"
        },
        {
         "name": "height",
         "rawType": "int64",
         "type": "integer"
        },
        {
         "name": "id",
         "rawType": "int64",
         "type": "integer"
        },
        {
         "name": "category_name",
         "rawType": "object",
         "type": "string"
        }
       ],
       "ref": "bb405b45-6ff6-492c-9660-5b09ff245bb3",
       "rows": [
        [
         "0",
         "0",
         "1",
         "[277, 207, 568.95, 591.79]",
         "336698.921",
         "[]",
         "0",
         "cl6kgm9qr002yc455g5qs87kz_2_FALSE_COLOR_jpg.rf.95debd80b7509cc0a6afe0a7c7ff6cfe.jpg",
         "1200",
         "860",
         "1",
         "fire"
        ],
        [
         "1",
         "1",
         "2",
         "[800, 0, 157.45, 413.38]",
         "65086.681",
         "[]",
         "0",
         "cl6odzs5e002oao55heuig0a6_1_TRUE_COLOR_jpg.rf.fc96fcc9ef8466ce18f286d422df48ea.jpg",
         "1200",
         "860",
         "1",
         "fire"
        ],
        [
         "2",
         "2",
         "2",
         "[1062, 96, 58.37, 63.91]",
         "3730.427",
         "[]",
         "0",
         "cl6odzs5e002oao55heuig0a6_1_TRUE_COLOR_jpg.rf.fc96fcc9ef8466ce18f286d422df48ea.jpg",
         "1200",
         "860",
         "1",
         "fire"
        ],
        [
         "3",
         "3",
         "2",
         "[452, 442, 410.09, 350.6]",
         "143777.554",
         "[]",
         "0",
         "cl6odzs5e002oao55heuig0a6_1_TRUE_COLOR_jpg.rf.fc96fcc9ef8466ce18f286d422df48ea.jpg",
         "1200",
         "860",
         "1",
         "fire"
        ],
        [
         "4",
         "4",
         "2",
         "[0, 163, 336.16, 375.08]",
         "126086.893",
         "[]",
         "0",
         "cl6odzs5e002oao55heuig0a6_1_TRUE_COLOR_jpg.rf.fc96fcc9ef8466ce18f286d422df48ea.jpg",
         "1200",
         "860",
         "1",
         "fire"
        ]
       ],
       "shape": {
        "columns": 11,
        "rows": 5
       }
      },
      "text/html": [
       "<div>\n",
       "<style scoped>\n",
       "    .dataframe tbody tr th:only-of-type {\n",
       "        vertical-align: middle;\n",
       "    }\n",
       "\n",
       "    .dataframe tbody tr th {\n",
       "        vertical-align: top;\n",
       "    }\n",
       "\n",
       "    .dataframe thead th {\n",
       "        text-align: right;\n",
       "    }\n",
       "</style>\n",
       "<table border=\"1\" class=\"dataframe\">\n",
       "  <thead>\n",
       "    <tr style=\"text-align: right;\">\n",
       "      <th></th>\n",
       "      <th>id_ann</th>\n",
       "      <th>image_id</th>\n",
       "      <th>bbox</th>\n",
       "      <th>area</th>\n",
       "      <th>segmentation</th>\n",
       "      <th>iscrowd</th>\n",
       "      <th>file_name</th>\n",
       "      <th>width</th>\n",
       "      <th>height</th>\n",
       "      <th>id</th>\n",
       "      <th>category_name</th>\n",
       "    </tr>\n",
       "  </thead>\n",
       "  <tbody>\n",
       "    <tr>\n",
       "      <th>0</th>\n",
       "      <td>0</td>\n",
       "      <td>1</td>\n",
       "      <td>[277, 207, 568.95, 591.79]</td>\n",
       "      <td>336698.921</td>\n",
       "      <td>[]</td>\n",
       "      <td>0</td>\n",
       "      <td>cl6kgm9qr002yc455g5qs87kz_2_FALSE_COLOR_jpg.rf...</td>\n",
       "      <td>1200</td>\n",
       "      <td>860</td>\n",
       "      <td>1</td>\n",
       "      <td>fire</td>\n",
       "    </tr>\n",
       "    <tr>\n",
       "      <th>1</th>\n",
       "      <td>1</td>\n",
       "      <td>2</td>\n",
       "      <td>[800, 0, 157.45, 413.38]</td>\n",
       "      <td>65086.681</td>\n",
       "      <td>[]</td>\n",
       "      <td>0</td>\n",
       "      <td>cl6odzs5e002oao55heuig0a6_1_TRUE_COLOR_jpg.rf....</td>\n",
       "      <td>1200</td>\n",
       "      <td>860</td>\n",
       "      <td>1</td>\n",
       "      <td>fire</td>\n",
       "    </tr>\n",
       "    <tr>\n",
       "      <th>2</th>\n",
       "      <td>2</td>\n",
       "      <td>2</td>\n",
       "      <td>[1062, 96, 58.37, 63.91]</td>\n",
       "      <td>3730.427</td>\n",
       "      <td>[]</td>\n",
       "      <td>0</td>\n",
       "      <td>cl6odzs5e002oao55heuig0a6_1_TRUE_COLOR_jpg.rf....</td>\n",
       "      <td>1200</td>\n",
       "      <td>860</td>\n",
       "      <td>1</td>\n",
       "      <td>fire</td>\n",
       "    </tr>\n",
       "    <tr>\n",
       "      <th>3</th>\n",
       "      <td>3</td>\n",
       "      <td>2</td>\n",
       "      <td>[452, 442, 410.09, 350.6]</td>\n",
       "      <td>143777.554</td>\n",
       "      <td>[]</td>\n",
       "      <td>0</td>\n",
       "      <td>cl6odzs5e002oao55heuig0a6_1_TRUE_COLOR_jpg.rf....</td>\n",
       "      <td>1200</td>\n",
       "      <td>860</td>\n",
       "      <td>1</td>\n",
       "      <td>fire</td>\n",
       "    </tr>\n",
       "    <tr>\n",
       "      <th>4</th>\n",
       "      <td>4</td>\n",
       "      <td>2</td>\n",
       "      <td>[0, 163, 336.16, 375.08]</td>\n",
       "      <td>126086.893</td>\n",
       "      <td>[]</td>\n",
       "      <td>0</td>\n",
       "      <td>cl6odzs5e002oao55heuig0a6_1_TRUE_COLOR_jpg.rf....</td>\n",
       "      <td>1200</td>\n",
       "      <td>860</td>\n",
       "      <td>1</td>\n",
       "      <td>fire</td>\n",
       "    </tr>\n",
       "  </tbody>\n",
       "</table>\n",
       "</div>"
      ],
      "text/plain": [
       "   id_ann  image_id                        bbox        area segmentation  \\\n",
       "0       0         1  [277, 207, 568.95, 591.79]  336698.921           []   \n",
       "1       1         2    [800, 0, 157.45, 413.38]   65086.681           []   \n",
       "2       2         2    [1062, 96, 58.37, 63.91]    3730.427           []   \n",
       "3       3         2   [452, 442, 410.09, 350.6]  143777.554           []   \n",
       "4       4         2    [0, 163, 336.16, 375.08]  126086.893           []   \n",
       "\n",
       "   iscrowd                                          file_name  width  height  \\\n",
       "0        0  cl6kgm9qr002yc455g5qs87kz_2_FALSE_COLOR_jpg.rf...   1200     860   \n",
       "1        0  cl6odzs5e002oao55heuig0a6_1_TRUE_COLOR_jpg.rf....   1200     860   \n",
       "2        0  cl6odzs5e002oao55heuig0a6_1_TRUE_COLOR_jpg.rf....   1200     860   \n",
       "3        0  cl6odzs5e002oao55heuig0a6_1_TRUE_COLOR_jpg.rf....   1200     860   \n",
       "4        0  cl6odzs5e002oao55heuig0a6_1_TRUE_COLOR_jpg.rf....   1200     860   \n",
       "\n",
       "   id category_name  \n",
       "0   1          fire  \n",
       "1   1          fire  \n",
       "2   1          fire  \n",
       "3   1          fire  \n",
       "4   1          fire  "
      ]
     },
     "metadata": {},
     "output_type": "display_data"
    },
    {
     "data": {
      "text/plain": [
       "Index(['id_ann', 'image_id', 'bbox', 'area', 'segmentation', 'iscrowd',\n",
       "       'file_name', 'width', 'height', 'id', 'category_name'],\n",
       "      dtype='object')"
      ]
     },
     "metadata": {},
     "output_type": "display_data"
    }
   ],
   "source": [
    "from data_loader import coco_to_df\n",
    "\n",
    "df = coco_to_df(coco_data)\n",
    "display(type(df))\n",
    "display(df.head())\n",
    "display(df.columns)"
   ]
  },
  {
   "cell_type": "markdown",
   "id": "1af16e03",
   "metadata": {},
   "source": [
    "## Partie 2 - Exploration & nettoyage des données\n"
   ]
  },
  {
   "cell_type": "markdown",
   "id": "d0b2a662",
   "metadata": {},
   "source": [
    "### A. Explorer les données pour en extraire les informations suivantes\n",
    "- Nombre total d'image\n",
    "- Nombre total d'annotations\n",
    "- Quelles sont les catégories ?\n",
    "- Nombre d'image par catégories\n",
    "- Statistiques sur le nombre d'annotation par image\n",
    "=> Ajouter 4 fonctions d'explorations dans le fichier prepare_data/data_explorer.py"
   ]
  },
  {
   "cell_type": "code",
   "execution_count": null,
   "id": "bfc1dd2e",
   "metadata": {},
   "outputs": [
    {
     "name": "stdout",
     "output_type": "stream",
     "text": [
      "Colonnes disponibles : ['id_ann', 'image_id', 'bbox', 'area', 'segmentation', 'iscrowd', 'file_name', 'width', 'height', 'id', 'category_name']\n",
      "Nombre total d’images : 493\n",
      "Nombre total d’annotations : 959\n",
      "Nombre moyen d’annotations par image : 1.95\n"
     ]
    },
    {
     "data": {
      "text/plain": [
       "None"
      ]
     },
     "metadata": {},
     "output_type": "display_data"
    },
    {
     "data": {
      "text/plain": [
       "'Nombre total images :'"
      ]
     },
     "metadata": {},
     "output_type": "display_data"
    },
    {
     "data": {
      "text/plain": [
       "493"
      ]
     },
     "metadata": {},
     "output_type": "display_data"
    },
    {
     "data": {
      "text/plain": [
       "'Nombre total annotations : '"
      ]
     },
     "metadata": {},
     "output_type": "display_data"
    },
    {
     "data": {
      "text/plain": [
       "959"
      ]
     },
     "metadata": {},
     "output_type": "display_data"
    },
    {
     "data": {
      "text/plain": [
       "'Catégories dénombrées: '"
      ]
     },
     "metadata": {},
     "output_type": "display_data"
    },
    {
     "data": {
      "text/plain": [
       "1"
      ]
     },
     "metadata": {},
     "output_type": "display_data"
    },
    {
     "data": {
      "text/plain": [
       "\"Nombre d'images par catégorie\""
      ]
     },
     "metadata": {},
     "output_type": "display_data"
    },
    {
     "data": {
      "application/vnd.microsoft.datawrangler.viewer.v0+json": {
       "columns": [
        {
         "name": "category_name",
         "rawType": "object",
         "type": "string"
        },
        {
         "name": "image_id",
         "rawType": "int64",
         "type": "integer"
        }
       ],
       "ref": "e27a660a-b116-4453-b8ec-b568d76271bf",
       "rows": [
        [
         "fire",
         "493"
        ]
       ],
       "shape": {
        "columns": 1,
        "rows": 1
       }
      },
      "text/plain": [
       "category_name\n",
       "fire    493\n",
       "Name: image_id, dtype: int64"
      ]
     },
     "metadata": {},
     "output_type": "display_data"
    },
    {
     "data": {
      "text/plain": [
       "\"Nombre d'annotations par image : \""
      ]
     },
     "metadata": {},
     "output_type": "display_data"
    },
    {
     "data": {
      "application/vnd.microsoft.datawrangler.viewer.v0+json": {
       "columns": [
        {
         "name": "image_id",
         "rawType": "int64",
         "type": "integer"
        },
        {
         "name": "id_ann",
         "rawType": "int64",
         "type": "integer"
        }
       ],
       "ref": "2eb8a2f4-0167-4a38-af99-2d7e1c00bded",
       "rows": [
        [
         "1",
         "1"
        ],
        [
         "2",
         "4"
        ],
        [
         "3",
         "1"
        ],
        [
         "4",
         "1"
        ],
        [
         "5",
         "2"
        ],
        [
         "6",
         "5"
        ],
        [
         "7",
         "5"
        ],
        [
         "8",
         "1"
        ],
        [
         "9",
         "1"
        ],
        [
         "10",
         "1"
        ],
        [
         "11",
         "2"
        ],
        [
         "12",
         "1"
        ],
        [
         "13",
         "4"
        ],
        [
         "14",
         "1"
        ],
        [
         "15",
         "1"
        ],
        [
         "16",
         "1"
        ],
        [
         "17",
         "2"
        ],
        [
         "18",
         "1"
        ],
        [
         "19",
         "1"
        ],
        [
         "20",
         "1"
        ],
        [
         "21",
         "2"
        ],
        [
         "22",
         "7"
        ],
        [
         "23",
         "3"
        ],
        [
         "24",
         "1"
        ],
        [
         "25",
         "2"
        ],
        [
         "26",
         "3"
        ],
        [
         "27",
         "1"
        ],
        [
         "28",
         "1"
        ],
        [
         "29",
         "3"
        ],
        [
         "30",
         "1"
        ],
        [
         "31",
         "1"
        ],
        [
         "32",
         "1"
        ],
        [
         "33",
         "3"
        ],
        [
         "34",
         "1"
        ],
        [
         "35",
         "1"
        ],
        [
         "36",
         "2"
        ],
        [
         "37",
         "1"
        ],
        [
         "38",
         "1"
        ],
        [
         "39",
         "2"
        ],
        [
         "40",
         "2"
        ],
        [
         "41",
         "1"
        ],
        [
         "42",
         "4"
        ],
        [
         "43",
         "5"
        ],
        [
         "44",
         "2"
        ],
        [
         "45",
         "2"
        ],
        [
         "46",
         "2"
        ],
        [
         "47",
         "1"
        ],
        [
         "48",
         "7"
        ],
        [
         "49",
         "1"
        ],
        [
         "50",
         "2"
        ]
       ],
       "shape": {
        "columns": 1,
        "rows": 493
       }
      },
      "text/plain": [
       "image_id\n",
       "1      1\n",
       "2      4\n",
       "3      1\n",
       "4      1\n",
       "5      2\n",
       "      ..\n",
       "495    1\n",
       "496    3\n",
       "497    1\n",
       "498    1\n",
       "499    1\n",
       "Name: id_ann, Length: 493, dtype: int64"
      ]
     },
     "metadata": {},
     "output_type": "display_data"
    }
   ],
   "source": [
    "from data_explorer import dataset_summary, ann_per_img, plot_ann_per_image\n",
    "\n",
    "# Résumé des données\n",
    "display(dataset_summary(df))\n",
    "\n",
    "# Nombre total d'images\n",
    "sum_img = df['image_id'].nunique()\n",
    "display('Nombre total images :', sum_img)\n",
    "\n",
    "# Nombre total d'annotations\n",
    "sum_ann = df['id_ann'].nunique()\n",
    "display('Nombre total annotations : ', sum_ann)\n",
    "\n",
    "# Noms des catégories et décompte du nombre d'annotations\n",
    "category_names = df['category_name'].nunique()\n",
    "display('Catégories dénombrées: ', category_names)\n",
    "\n",
    "# Nombre d'images par catégorie\n",
    "\n",
    "nb_img_per_cat = df.groupby('category_name')['image_id'].nunique()\n",
    "display(\"Nombre d'images par catégorie\", nb_img_per_cat)\n",
    "\n",
    "# Nombre d'annotations par image\n",
    "\n",
    "nb_ann_per_img = df.groupby('image_id')['id_ann'].nunique()\n",
    "display(\"Nombre d'annotations par image : \", nb_ann_per_img)\n",
    "\n"
   ]
  },
  {
   "cell_type": "code",
   "execution_count": 9,
   "id": "8c4a3467",
   "metadata": {},
   "outputs": [
    {
     "name": "stdout",
     "output_type": "stream",
     "text": [
      "Statistiques des annotations par image : \n",
      "count    493.000000\n",
      "mean       1.945233\n",
      "std        1.405218\n",
      "min        1.000000\n",
      "25%        1.000000\n",
      "50%        1.000000\n",
      "75%        2.000000\n",
      "max       10.000000\n",
      "dtype: float64\n"
     ]
    },
    {
     "data": {
      "text/plain": [
       "None"
      ]
     },
     "metadata": {},
     "output_type": "display_data"
    }
   ],
   "source": [
    "# Nombre moyen d'annotation par image\n",
    "\n",
    "display(ann_per_img(df))\n",
    "\n",
    "# Nombre d'images sans annotations\n",
    "\n"
   ]
  },
  {
   "cell_type": "code",
   "execution_count": 7,
   "id": "d9465dc4",
   "metadata": {},
   "outputs": [
    {
     "data": {
      "image/png": "[encoded data removed]",
      "text/plain": [
       "<Figure size 800x500 with 1 Axes>"
      ]
     },
     "metadata": {},
     "output_type": "display_data"
    }
   ],
   "source": [
    "# Graphique du nombre d'annotations par image\n",
    "\n",
    "plot_ann_per_image(df)"
   ]
  },
  {
   "cell_type": "markdown",
   "id": "6a861680",
   "metadata": {},
   "source": [
    "## Vérification incohérences des données\n",
    "\n",
    "- Ecrire une fonction qui renvoie les extensions des fichiers\n",
    "- Ecrire une fonction qui vérifie la cohérence entre les images disponibles et les images présentes dans _annotations.coco.json\n",
    "- Écrire une fonction qui renvoie la liste des images sans annotations s’il y en a\n",
    "- Créer une liste d’id unique dans les annotations (pandas unique)\n",
    "- Filtrer le dataframe d’images en ne gardant que les images telles que l’id ne soient pas dans la liste d’id unique (exemple pandas)\n",
    "- Écrire une fonction qui renvoie les annotations ne correspondant à aucune image\n",
    "- Ecrire une fonction qui détecte les valeurs aberrantes pour les annotations (ex : hauteur == 0 et largeur != 0, etc)\n",
    "\n",
    "\n"
   ]
  },
  {
   "cell_type": "code",
   "execution_count": null,
   "id": "b940ca31",
   "metadata": {},
   "outputs": [
    {
     "name": "stdout",
     "output_type": "stream",
     "text": [
      "[]\n"
     ]
    }
   ],
   "source": [
    "# Fonction qui renvoie les extensions des fichiers\n",
    "from pathlib import Path\n",
    "\n",
    "dir_path = \"/home/fadilatou/PROJETS/wildfire_detection/data/satellite wildfire detection/_annotations.coco.json\"\n",
    "# Create a path object\n",
    "dir_path = Path(dir_path)\n",
    "# Find all text files inside a directory\n",
    "files = list(dir_path.glob(\"*.png , *.jpg\"))\n",
    "\n",
    "print(files)"
   ]
  },
  {
   "cell_type": "code",
   "execution_count": null,
   "id": "6ed5eac6",
   "metadata": {},
   "outputs": [],
   "source": [
    "# Vérification de la cohérence entre images disponibles et les images présent dans l'annotations\n",
    "def coherence_images(image_dir, coco_data):\n",
    "    \"\"\"\n",
    "    Vérifie la cohérence entre les images du dossier et celles listées dans le fichier COCO.\n",
    "    Retourne les images manquantes et les images en trop.\n",
    "    \"\"\"\n",
    "    from pathlib import Path\n",
    "    # Liste des fichiers images dans le dossier\n",
    "    image_files = set([f.name for f in Path(image_dir).glob(\"*.png\")])\n",
    "    # Liste des fichiers attendus dans le COCO json\n",
    "    coco_images = set([img['file_name'] for img in coco_data['images']])\n",
    "\n",
    "    manquant = coco_images - image_files\n",
    "    extra = image_files - coco_images\n",
    "    return {\"missing_in_folder\": list(manquant), \"extra_in_folder\": list(extra)}\n"
   ]
  },
  {
   "cell_type": "code",
   "execution_count": null,
   "id": "f5fc1983",
   "metadata": {},
   "outputs": [],
   "source": [
    "# Les images sans annotations\n",
    "\n",
    "def images_sans_annotations(df):\n",
    "    \"\"\"\n",
    "    Retourne la liste des images sans annotations dans le DataFrame.\n",
    "    \"\"\"\n",
    "    images_avec_annotations = set(df['image_id'].unique())\n",
    "    toutes_images = set(df['file_name'].unique())\n",
    "    # On suppose que chaque ligne du df correspond à une annotation\n",
    "    # Si une image n'a aucune annotation, elle n'apparaît pas dans df['image_id']\n",
    "    # Pour être plus précis, il faut avoir le DataFrame des images (images_df)\n",
    "    # Exemple avec images_df :\n",
    "    # images_sans_annotations = set(images_df['file_name']) - set(df['file_name'])\n",
    "    # Mais avec df seul :\n",
    "    return list(toutes_images - set(df['file_name']))\n"
   ]
  }
 ],
 "metadata": {
  "kernelspec": {
   "display_name": ".venv",
   "language": "python",
   "name": "python3"
  },
  "language_info": {
   "codemirror_mode": {
    "name": "ipython",
    "version": 3
   },
   "file_extension": ".py",
   "mimetype": "text/x-python",
   "name": "python",
   "nbconvert_exporter": "python",
   "pygments_lexer": "ipython3",
   "version": "3.12.3"
  }
 },
 "nbformat": 4,
 "nbformat_minor": 5
}
