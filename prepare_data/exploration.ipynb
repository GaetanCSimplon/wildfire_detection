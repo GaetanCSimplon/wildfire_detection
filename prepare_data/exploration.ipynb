{
 "cells": [
  {
   "cell_type": "markdown",
   "id": "0ea6fd76",
   "metadata": {},
   "source": [
    "# Partie 1 & 2 - Exploration des données"
   ]
  },
  {
   "cell_type": "markdown",
   "id": "cf400dca",
   "metadata": {},
   "source": [
    "## Import des librairies"
   ]
  },
  {
   "cell_type": "code",
   "execution_count": 1,
   "id": "e3241411",
   "metadata": {},
   "outputs": [],
   "source": [
    "import json\n",
    "import pandas as pd"
   ]
  },
  {
   "cell_type": "markdown",
   "id": "f35ba4be",
   "metadata": {},
   "source": [
    "## Partie 1 - Chargement des données\n",
    "### Fichiers de références :\n",
    "- prepare_data/data_loader.py"
   ]
  },
  {
   "cell_type": "markdown",
   "id": "5fc80c9f",
   "metadata": {},
   "source": [
    "### Chargement des données\n",
    "- Format de données : coco.json\n",
    "-> Appel de la fonction load_coco_json contenu dans le module data_loader.py\n",
    "- Adapte le chemin du fichier coco.json par rapport à ton espace de travail"
   ]
  },
  {
   "cell_type": "code",
   "execution_count": null,
   "id": "90a0bd92",
   "metadata": {},
   "outputs": [
    {
     "name": "stdout",
     "output_type": "stream",
     "text": [
      "dict_keys(['info', 'licenses', 'categories', 'images', 'annotations'])\n"
     ]
    },
    {
     "data": {
      "text/plain": [
       "'Image 1 :'"
      ]
     },
     "metadata": {},
     "output_type": "display_data"
    },
    {
     "data": {
      "text/plain": [
       "[{'id': 0,\n",
       "  'license': 1,\n",
       "  'file_name': 'cl6e1qges001kgk555z158f33_2_FALSE_COLOR_jpg.rf.479904c9e54c6ba121689341598bf3ed.jpg',\n",
       "  'height': 860,\n",
       "  'width': 1200,\n",
       "  'date_captured': '2025-09-14T12:06:19+00:00',\n",
       "  'extra': {'name': 'cl6e1qges001kgk555z158f33_2_FALSE_COLOR.jpg'}}]"
      ]
     },
     "metadata": {},
     "output_type": "display_data"
    },
    {
     "data": {
      "text/plain": [
       "'Annotation 1 :'"
      ]
     },
     "metadata": {},
     "output_type": "display_data"
    },
    {
     "data": {
      "text/plain": [
       "[{'id': 0,\n",
       "  'image_id': 1,\n",
       "  'category_id': 1,\n",
       "  'bbox': [277, 207, 568.95, 591.79],\n",
       "  'area': 336698.921,\n",
       "  'segmentation': [],\n",
       "  'iscrowd': 0}]"
      ]
     },
     "metadata": {},
     "output_type": "display_data"
    },
    {
     "data": {
      "text/plain": [
       "'Catégories : '"
      ]
     },
     "metadata": {},
     "output_type": "display_data"
    },
    {
     "data": {
      "text/plain": [
       "[{'id': 0, 'name': 'wildfire', 'supercategory': 'none'},\n",
       " {'id': 1, 'name': 'fire', 'supercategory': 'wildfire'}]"
      ]
     },
     "metadata": {},
     "output_type": "display_data"
    }
   ],
   "source": [
    "from data_loader import load_coco_json\n",
    "\n",
    "coco_data = load_coco_json('/home/gaetansimplon/wildfire_detection/data/_annotations.coco.json')\n",
    "\n",
    "\n",
    "# Affichage des clés\n",
    "print(coco_data.keys())\n",
    "\n",
    "# Affichage 1ère image\n",
    "display('Image 1 :', coco_data['images'][:1])\n",
    "# Affichage 1ère annotation\n",
    "display('Annotation 1 :', coco_data['annotations'][:1])\n",
    "# Affichage catégories\n",
    "display('Catégories : ', coco_data['categories'])\n"
   ]
  },
  {
   "cell_type": "markdown",
   "id": "94ca2331",
   "metadata": {},
   "source": [
    "### Mise en Dataframe\n",
    "Etapes :\n",
    "- Mettre en dataframe chaque liste du json en dataframes distincts ('images', 'annotations' et 'categories)\n",
    "- Fusionner les annotations avec les informations des images\n",
    "- Ajouter le nom de la catégories à chaque annotations\n",
    "\n",
    "Données filtrées :\n",
    "- id_ann -> id de l'annotation\n",
    "- image_id -> id de l'image correspondante\n",
    "- category_id -> id de la catégorie\n",
    "- bbox -> coordonnées de la boîte englobante [x, y, largeur (width), hauteur(height)]\n",
    "- area -> Surface de l'objet annoté en pixel (width*height)\n",
    "- segmentation -> Liste de points décrivant la forme exacte de l'objet\n",
    "- iscrowd -> Indique si l'objet fait partie d'un groupe dense (=1) ou isolé (=0)\n",
    "- file_name -> nom du fichier image\n",
    "- width / height -> Dimension de l'image en pixel\n",
    "- id -> Indentifiant interne au dataframe\n",
    "- category_name -> nom de la catégorie (ex: feu)\n",
    "\n"
   ]
  },
  {
   "cell_type": "code",
   "execution_count": 8,
   "id": "a2889f6e",
   "metadata": {},
   "outputs": [
    {
     "data": {
      "application/vnd.microsoft.datawrangler.viewer.v0+json": {
       "columns": [
        {
         "name": "index",
         "rawType": "int64",
         "type": "integer"
        },
        {
         "name": "id_ann",
         "rawType": "int64",
         "type": "integer"
        },
        {
         "name": "image_id",
         "rawType": "int64",
         "type": "integer"
        },
        {
         "name": "bbox",
         "rawType": "object",
         "type": "unknown"
        },
        {
         "name": "area",
         "rawType": "float64",
         "type": "float"
        },
        {
         "name": "segmentation",
         "rawType": "object",
         "type": "unknown"
        },
        {
         "name": "iscrowd",
         "rawType": "int64",
         "type": "integer"
        },
        {
         "name": "file_name",
         "rawType": "object",
         "type": "string"
        },
        {
         "name": "width",
         "rawType": "int64",
         "type": "integer"
        },
        {
         "name": "height",
         "rawType": "int64",
         "type": "integer"
        },
        {
         "name": "id",
         "rawType": "int64",
         "type": "integer"
        },
        {
         "name": "category_name",
         "rawType": "object",
         "type": "string"
        }
       ],
       "ref": "f5d728eb-1564-4003-a7e7-7d5ca342fadd",
       "rows": [
        [
         "0",
         "0",
         "1",
         "[277, 207, 568.95, 591.79]",
         "336698.921",
         "[]",
         "0",
         "cl6kgm9qr002yc455g5qs87kz_2_FALSE_COLOR_jpg.rf.95debd80b7509cc0a6afe0a7c7ff6cfe.jpg",
         "1200",
         "860",
         "1",
         "fire"
        ],
        [
         "1",
         "1",
         "2",
         "[800, 0, 157.45, 413.38]",
         "65086.681",
         "[]",
         "0",
         "cl6odzs5e002oao55heuig0a6_1_TRUE_COLOR_jpg.rf.fc96fcc9ef8466ce18f286d422df48ea.jpg",
         "1200",
         "860",
         "1",
         "fire"
        ],
        [
         "2",
         "2",
         "2",
         "[1062, 96, 58.37, 63.91]",
         "3730.427",
         "[]",
         "0",
         "cl6odzs5e002oao55heuig0a6_1_TRUE_COLOR_jpg.rf.fc96fcc9ef8466ce18f286d422df48ea.jpg",
         "1200",
         "860",
         "1",
         "fire"
        ],
        [
         "3",
         "3",
         "2",
         "[452, 442, 410.09, 350.6]",
         "143777.554",
         "[]",
         "0",
         "cl6odzs5e002oao55heuig0a6_1_TRUE_COLOR_jpg.rf.fc96fcc9ef8466ce18f286d422df48ea.jpg",
         "1200",
         "860",
         "1",
         "fire"
        ],
        [
         "4",
         "4",
         "2",
         "[0, 163, 336.16, 375.08]",
         "126086.893",
         "[]",
         "0",
         "cl6odzs5e002oao55heuig0a6_1_TRUE_COLOR_jpg.rf.fc96fcc9ef8466ce18f286d422df48ea.jpg",
         "1200",
         "860",
         "1",
         "fire"
        ]
       ],
       "shape": {
        "columns": 11,
        "rows": 5
       }
      },
      "text/html": [
       "<div>\n",
       "<style scoped>\n",
       "    .dataframe tbody tr th:only-of-type {\n",
       "        vertical-align: middle;\n",
       "    }\n",
       "\n",
       "    .dataframe tbody tr th {\n",
       "        vertical-align: top;\n",
       "    }\n",
       "\n",
       "    .dataframe thead th {\n",
       "        text-align: right;\n",
       "    }\n",
       "</style>\n",
       "<table border=\"1\" class=\"dataframe\">\n",
       "  <thead>\n",
       "    <tr style=\"text-align: right;\">\n",
       "      <th></th>\n",
       "      <th>id_ann</th>\n",
       "      <th>image_id</th>\n",
       "      <th>bbox</th>\n",
       "      <th>area</th>\n",
       "      <th>segmentation</th>\n",
       "      <th>iscrowd</th>\n",
       "      <th>file_name</th>\n",
       "      <th>width</th>\n",
       "      <th>height</th>\n",
       "      <th>id</th>\n",
       "      <th>category_name</th>\n",
       "    </tr>\n",
       "  </thead>\n",
       "  <tbody>\n",
       "    <tr>\n",
       "      <th>0</th>\n",
       "      <td>0</td>\n",
       "      <td>1</td>\n",
       "      <td>[277, 207, 568.95, 591.79]</td>\n",
       "      <td>336698.921</td>\n",
       "      <td>[]</td>\n",
       "      <td>0</td>\n",
       "      <td>cl6kgm9qr002yc455g5qs87kz_2_FALSE_COLOR_jpg.rf...</td>\n",
       "      <td>1200</td>\n",
       "      <td>860</td>\n",
       "      <td>1</td>\n",
       "      <td>fire</td>\n",
       "    </tr>\n",
       "    <tr>\n",
       "      <th>1</th>\n",
       "      <td>1</td>\n",
       "      <td>2</td>\n",
       "      <td>[800, 0, 157.45, 413.38]</td>\n",
       "      <td>65086.681</td>\n",
       "      <td>[]</td>\n",
       "      <td>0</td>\n",
       "      <td>cl6odzs5e002oao55heuig0a6_1_TRUE_COLOR_jpg.rf....</td>\n",
       "      <td>1200</td>\n",
       "      <td>860</td>\n",
       "      <td>1</td>\n",
       "      <td>fire</td>\n",
       "    </tr>\n",
       "    <tr>\n",
       "      <th>2</th>\n",
       "      <td>2</td>\n",
       "      <td>2</td>\n",
       "      <td>[1062, 96, 58.37, 63.91]</td>\n",
       "      <td>3730.427</td>\n",
       "      <td>[]</td>\n",
       "      <td>0</td>\n",
       "      <td>cl6odzs5e002oao55heuig0a6_1_TRUE_COLOR_jpg.rf....</td>\n",
       "      <td>1200</td>\n",
       "      <td>860</td>\n",
       "      <td>1</td>\n",
       "      <td>fire</td>\n",
       "    </tr>\n",
       "    <tr>\n",
       "      <th>3</th>\n",
       "      <td>3</td>\n",
       "      <td>2</td>\n",
       "      <td>[452, 442, 410.09, 350.6]</td>\n",
       "      <td>143777.554</td>\n",
       "      <td>[]</td>\n",
       "      <td>0</td>\n",
       "      <td>cl6odzs5e002oao55heuig0a6_1_TRUE_COLOR_jpg.rf....</td>\n",
       "      <td>1200</td>\n",
       "      <td>860</td>\n",
       "      <td>1</td>\n",
       "      <td>fire</td>\n",
       "    </tr>\n",
       "    <tr>\n",
       "      <th>4</th>\n",
       "      <td>4</td>\n",
       "      <td>2</td>\n",
       "      <td>[0, 163, 336.16, 375.08]</td>\n",
       "      <td>126086.893</td>\n",
       "      <td>[]</td>\n",
       "      <td>0</td>\n",
       "      <td>cl6odzs5e002oao55heuig0a6_1_TRUE_COLOR_jpg.rf....</td>\n",
       "      <td>1200</td>\n",
       "      <td>860</td>\n",
       "      <td>1</td>\n",
       "      <td>fire</td>\n",
       "    </tr>\n",
       "  </tbody>\n",
       "</table>\n",
       "</div>"
      ],
      "text/plain": [
       "   id_ann  image_id                        bbox        area segmentation  \\\n",
       "0       0         1  [277, 207, 568.95, 591.79]  336698.921           []   \n",
       "1       1         2    [800, 0, 157.45, 413.38]   65086.681           []   \n",
       "2       2         2    [1062, 96, 58.37, 63.91]    3730.427           []   \n",
       "3       3         2   [452, 442, 410.09, 350.6]  143777.554           []   \n",
       "4       4         2    [0, 163, 336.16, 375.08]  126086.893           []   \n",
       "\n",
       "   iscrowd                                          file_name  width  height  \\\n",
       "0        0  cl6kgm9qr002yc455g5qs87kz_2_FALSE_COLOR_jpg.rf...   1200     860   \n",
       "1        0  cl6odzs5e002oao55heuig0a6_1_TRUE_COLOR_jpg.rf....   1200     860   \n",
       "2        0  cl6odzs5e002oao55heuig0a6_1_TRUE_COLOR_jpg.rf....   1200     860   \n",
       "3        0  cl6odzs5e002oao55heuig0a6_1_TRUE_COLOR_jpg.rf....   1200     860   \n",
       "4        0  cl6odzs5e002oao55heuig0a6_1_TRUE_COLOR_jpg.rf....   1200     860   \n",
       "\n",
       "   id category_name  \n",
       "0   1          fire  \n",
       "1   1          fire  \n",
       "2   1          fire  \n",
       "3   1          fire  \n",
       "4   1          fire  "
      ]
     },
     "metadata": {},
     "output_type": "display_data"
    },
    {
     "data": {
      "text/plain": [
       "Index(['id_ann', 'image_id', 'bbox', 'area', 'segmentation', 'iscrowd',\n",
       "       'file_name', 'width', 'height', 'id', 'category_name'],\n",
       "      dtype='object')"
      ]
     },
     "metadata": {},
     "output_type": "display_data"
    }
   ],
   "source": [
    "from data_loader import coco_to_df\n",
    "\n",
    "df = coco_to_df(coco_data)\n",
    "\n",
    "display(df.head())\n",
    "display(df.columns)"
   ]
  },
  {
   "cell_type": "markdown",
   "id": "1af16e03",
   "metadata": {},
   "source": [
    "## Partie 2 - Exploration & nettoyage des données\n"
   ]
  },
  {
   "cell_type": "markdown",
   "id": "d0b2a662",
   "metadata": {},
   "source": [
    "### A. Explorer les données pour en extraire les informations suivantes\n",
    "- Nombre total d'image\n",
    "- Nombre total d'annotations\n",
    "- Quelles sont les catégories ?\n",
    "- Nombre d'image par catégories\n",
    "- Statistiques sur le nombre d'annotation par image\n",
    "=> Ajouter 4 fonctions d'explorations dans le fichier prepare_data/data_explorer.py"
   ]
  }
 ],
 "metadata": {
  "kernelspec": {
   "display_name": ".venv",
   "language": "python",
   "name": "python3"
  },
  "language_info": {
   "codemirror_mode": {
    "name": "ipython",
    "version": 3
   },
   "file_extension": ".py",
   "mimetype": "text/x-python",
   "name": "python",
   "nbconvert_exporter": "python",
   "pygments_lexer": "ipython3",
   "version": "3.12.3"
  }
 },
 "nbformat": 4,
 "nbformat_minor": 5
}
