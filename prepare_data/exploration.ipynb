{
 "cells": [
  {
   "cell_type": "markdown",
   "id": "0ea6fd76",
   "metadata": {},
   "source": [
    "# Partie 1 & 2 - Exploration des données"
   ]
  },
  {
   "cell_type": "markdown",
   "id": "cf400dca",
   "metadata": {},
   "source": [
    "## Import des librairies"
   ]
  },
  {
   "cell_type": "code",
   "execution_count": 1,
   "id": "e3241411",
   "metadata": {},
   "outputs": [],
   "source": [
    "import json\n",
    "import pandas as pd\n",
    "import matplotlib.pyplot as plt\n",
    "import seaborn as sns"
   ]
  },
  {
   "cell_type": "markdown",
   "id": "f35ba4be",
   "metadata": {},
   "source": [
    "## Partie 1 - Chargement des données\n",
    "### Fichiers de références :\n",
    "- prepare_data/data_loader.py"
   ]
  },
  {
   "cell_type": "markdown",
   "id": "5fc80c9f",
   "metadata": {},
   "source": [
    "### Chargement des données\n",
    "- Format de données : coco.json\n",
    "-> Appel de la fonction load_coco_json contenu dans le module data_loader.py\n",
    "- Adapte le chemin du fichier coco.json par rapport à ton espace de travail"
   ]
  },
  {
   "cell_type": "code",
   "execution_count": 3,
   "id": "90a0bd92",
   "metadata": {},
   "outputs": [
    {
     "data": {
      "text/plain": [
       "dict_keys(['info', 'licenses', 'categories', 'images', 'annotations'])"
      ]
     },
     "metadata": {},
     "output_type": "display_data"
    },
    {
     "data": {
      "text/plain": [
       "'Image 1 : '"
      ]
     },
     "metadata": {},
     "output_type": "display_data"
    },
    {
     "data": {
      "text/plain": [
       "[{'id': 0,\n",
       "  'license': 1,\n",
       "  'file_name': 'cl6e1qges001kgk555z158f33_2_FALSE_COLOR_jpg.rf.479904c9e54c6ba121689341598bf3ed.jpg',\n",
       "  'height': 860,\n",
       "  'width': 1200,\n",
       "  'date_captured': '2025-09-14T12:06:19+00:00',\n",
       "  'extra': {'name': 'cl6e1qges001kgk555z158f33_2_FALSE_COLOR.jpg'}}]"
      ]
     },
     "metadata": {},
     "output_type": "display_data"
    },
    {
     "data": {
      "text/plain": [
       "'Annotations 1 : '"
      ]
     },
     "metadata": {},
     "output_type": "display_data"
    },
    {
     "data": {
      "text/plain": [
       "[{'id': 0,\n",
       "  'image_id': 1,\n",
       "  'category_id': 1,\n",
       "  'bbox': [277, 207, 568.95, 591.79],\n",
       "  'area': 336698.921,\n",
       "  'segmentation': [],\n",
       "  'iscrowd': 0}]"
      ]
     },
     "metadata": {},
     "output_type": "display_data"
    },
    {
     "data": {
      "text/plain": [
       "'Catégorie : '"
      ]
     },
     "metadata": {},
     "output_type": "display_data"
    },
    {
     "data": {
      "text/plain": [
       "[{'id': 0, 'name': 'wildfire', 'supercategory': 'none'},\n",
       " {'id': 1, 'name': 'fire', 'supercategory': 'wildfire'}]"
      ]
     },
     "metadata": {},
     "output_type": "display_data"
    }
   ],
   "source": [
    "from data_loader import load_coco_json\n",
    "path_dir = \"/home/fadilatou/PROJETS/wildfire_detection/data\"\n",
    "path_dir_coco = \"/home/fadilatou/PROJETS/wildfire_detection/data/_annotations_clean.coco.json\"\n",
    "\n",
    "coco_data = load_coco_json(path_dir_coco)\n",
    "\n",
    "display(coco_data.keys())\n",
    "display(\"Image 1 : \", coco_data['images'][:1])\n",
    "display(\"Annotations 1 : \", coco_data['annotations'][:1])\n",
    "display(\"Catégorie : \", coco_data['categories'])\n"
   ]
  },
  {
   "cell_type": "markdown",
   "id": "94ca2331",
   "metadata": {},
   "source": [
    "### Mise en Dataframe\n",
    "Etapes :\n",
    "- Mettre en dataframe chaque liste du json en dataframes distincts ('images', 'annotations' et 'categories)\n",
    "- Fusionner les annotations avec les informations des images\n",
    "- Ajouter le nom de la catégories à chaque annotations\n",
    "\n",
    "Données filtrées :\n",
    "- id_ann -> id de l'annotation\n",
    "- image_id -> id de l'image correspondante\n",
    "- category_id -> id de la catégorie\n",
    "- bbox -> coordonnées de la boîte englobante [x, y, largeur (width), hauteur(height)]\n",
    "- area -> Surface de l'objet annoté en pixel (width*height)\n",
    "- segmentation -> Liste de points décrivant la forme exacte de l'objet\n",
    "- iscrowd -> Indique si l'objet fait partie d'un groupe dense (=1) ou isolé (=0)\n",
    "- file_name -> nom du fichier image\n",
    "- width / height -> Dimension de l'image en pixel\n",
    "- id -> Indentifiant interne au dataframe\n",
    "- category_name -> nom de la catégorie (ex: feu)\n",
    "\n"
   ]
  },
  {
   "cell_type": "code",
   "execution_count": null,
   "id": "a2889f6e",
   "metadata": {},
   "outputs": [
    {
     "data": {
      "text/plain": [
       "\"Nb d'images : \""
      ]
     },
     "metadata": {},
     "output_type": "display_data"
    },
    {
     "data": {
      "text/plain": [
       "500"
      ]
     },
     "metadata": {},
     "output_type": "display_data"
    },
    {
     "data": {
      "text/plain": [
       "'Nb annotations : '"
      ]
     },
     "metadata": {},
     "output_type": "display_data"
    },
    {
     "data": {
      "text/plain": [
       "959"
      ]
     },
     "metadata": {},
     "output_type": "display_data"
    },
    {
     "data": {
      "text/plain": [
       "'Nb catégories : '"
      ]
     },
     "metadata": {},
     "output_type": "display_data"
    },
    {
     "data": {
      "application/vnd.microsoft.datawrangler.viewer.v0+json": {
       "columns": [
        {
         "name": "index",
         "rawType": "int64",
         "type": "integer"
        },
        {
         "name": "id",
         "rawType": "int64",
         "type": "integer"
        },
        {
         "name": "name",
         "rawType": "object",
         "type": "string"
        },
        {
         "name": "supercategory",
         "rawType": "object",
         "type": "string"
        }
       ],
       "ref": "b7be9eb5-629d-4c58-8c01-41c8d053a40a",
       "rows": [
        [
         "0",
         "0",
         "wildfire",
         "none"
        ],
        [
         "1",
         "1",
         "fire",
         "wildfire"
        ]
       ],
       "shape": {
        "columns": 3,
        "rows": 2
       }
      },
      "text/html": [
       "<div>\n",
       "<style scoped>\n",
       "    .dataframe tbody tr th:only-of-type {\n",
       "        vertical-align: middle;\n",
       "    }\n",
       "\n",
       "    .dataframe tbody tr th {\n",
       "        vertical-align: top;\n",
       "    }\n",
       "\n",
       "    .dataframe thead th {\n",
       "        text-align: right;\n",
       "    }\n",
       "</style>\n",
       "<table border=\"1\" class=\"dataframe\">\n",
       "  <thead>\n",
       "    <tr style=\"text-align: right;\">\n",
       "      <th></th>\n",
       "      <th>id</th>\n",
       "      <th>name</th>\n",
       "      <th>supercategory</th>\n",
       "    </tr>\n",
       "  </thead>\n",
       "  <tbody>\n",
       "    <tr>\n",
       "      <th>0</th>\n",
       "      <td>0</td>\n",
       "      <td>wildfire</td>\n",
       "      <td>none</td>\n",
       "    </tr>\n",
       "    <tr>\n",
       "      <th>1</th>\n",
       "      <td>1</td>\n",
       "      <td>fire</td>\n",
       "      <td>wildfire</td>\n",
       "    </tr>\n",
       "  </tbody>\n",
       "</table>\n",
       "</div>"
      ],
      "text/plain": [
       "   id      name supercategory\n",
       "0   0  wildfire          none\n",
       "1   1      fire      wildfire"
      ]
     },
     "metadata": {},
     "output_type": "display_data"
    }
   ],
   "source": [
    "from data_loader import coco_to_df\n",
    "\n",
    "df_images, df_annotations, df_categories = coco_to_df(coco_data)\n",
    "\n",
    "display(\"Nb d'images : \", len(df_images))\n",
    "display(\"Nb annotations : \", len(df_annotations))\n",
    "display(\"Nb catégories : \", df_categories)"
   ]
  },
  {
   "cell_type": "markdown",
   "id": "1af16e03",
   "metadata": {},
   "source": [
    "## Partie 2 - Exploration & nettoyage des données\n"
   ]
  },
  {
   "cell_type": "markdown",
   "id": "d0b2a662",
   "metadata": {},
   "source": [
    "### A. Explorer les données pour en extraire les informations suivantes\n",
    "- Nombre total d'image\n",
    "- Nombre total d'annotations\n",
    "- Quelles sont les catégories ?\n",
    "- Nombre d'image par catégories\n",
    "- Statistiques sur le nombre d'annotation par image\n",
    "=> Ajouter 4 fonctions d'explorations dans le fichier prepare_data/data_explorer.py"
   ]
  },
  {
   "cell_type": "code",
   "execution_count": null,
   "id": "bfc1dd2e",
   "metadata": {},
   "outputs": [
    {
     "data": {
      "text/plain": [
       "500"
      ]
     },
     "metadata": {},
     "output_type": "display_data"
    },
    {
     "data": {
      "text/plain": [
       "959"
      ]
     },
     "metadata": {},
     "output_type": "display_data"
    },
    {
     "data": {
      "application/vnd.microsoft.datawrangler.viewer.v0+json": {
       "columns": [
        {
         "name": "index",
         "rawType": "object",
         "type": "string"
        },
        {
         "name": "0",
         "rawType": "float64",
         "type": "float"
        }
       ],
       "ref": "3af2bf9e-49e1-4de9-96ef-0c6377658504",
       "rows": [
        [
         "count",
         "493.0"
        ],
        [
         "mean",
         "1.945233265720081"
        ],
        [
         "std",
         "1.40521770018293"
        ],
        [
         "min",
         "1.0"
        ],
        [
         "25%",
         "1.0"
        ],
        [
         "50%",
         "1.0"
        ],
        [
         "75%",
         "2.0"
        ],
        [
         "max",
         "10.0"
        ]
       ],
       "shape": {
        "columns": 1,
        "rows": 8
       }
      },
      "text/plain": [
       "count    493.000000\n",
       "mean       1.945233\n",
       "std        1.405218\n",
       "min        1.000000\n",
       "25%        1.000000\n",
       "50%        1.000000\n",
       "75%        2.000000\n",
       "max       10.000000\n",
       "dtype: float64"
      ]
     },
     "metadata": {},
     "output_type": "display_data"
    },
    {
     "name": "stdout",
     "output_type": "stream",
     "text": [
      "Nombre d'images : 500\n",
      "Nombre d'annotations : 959\n",
      "Nombre moyen d'annotations par image : 1.945233265720081\n"
     ]
    },
    {
     "data": {
      "text/plain": [
       "(None, None, None)"
      ]
     },
     "metadata": {},
     "output_type": "display_data"
    }
   ],
   "source": [
    "\n",
    "from data_explorer import count_ann, count_images, ann_stats_per_img, stats_summary\n",
    "\n",
    "nb_img = count_images(df_images)\n",
    "display(nb_img)\n",
    "\n",
    "nb_ann = count_ann(df_annotations)\n",
    "display(nb_ann)\n",
    "\n",
    "ann_per_img = ann_stats_per_img(df_annotations)\n",
    "display(ann_per_img)\n",
    "\n",
    "display(stats_summary(df_images, df_annotations))"
   ]
  },
  {
   "cell_type": "code",
   "execution_count": null,
   "id": "478ab9f8",
   "metadata": {},
   "outputs": [
    {
     "data": {
      "image/png": "[encoded data removed]",
      "text/plain": [
       "<Figure size 800x400 with 1 Axes>"
      ]
     },
     "metadata": {},
     "output_type": "display_data"
    }
   ],
   "source": [
    "\n",
    "plt.figure(figsize=(8,4))\n",
    "\n",
    "img_ann = df_annotations.groupby('image_id').size().reset_index(name=\"n_annotations\")\n",
    "sns.histplot(img_ann['n_annotations'], bins=20)\n",
    "plt.title(\"Distribution du nombre d'annotations par image\")\n",
    "plt.xlabel(\"Images\")\n",
    "plt.ylabel(\"Annotations\")\n",
    "plt.tight_layout()\n",
    "plt.show()"
   ]
  },
  {
   "cell_type": "markdown",
   "id": "6a861680",
   "metadata": {},
   "source": [
    "## Vérification incohérences des données\n",
    "\n",
    "- Ecrire une fonction qui renvoie les extensions des fichiers\n",
    "- Ecrire une fonction qui vérifie la cohérence entre les images disponibles et les images présentes dans _annotations.coco.json\n",
    "- Écrire une fonction qui renvoie la liste des images sans annotations s’il y en a\n",
    "- Créer une liste d’id unique dans les annotations (pandas unique)\n",
    "- Filtrer le dataframe d’images en ne gardant que les images telles que l’id ne soient pas dans la liste d’id unique (exemple pandas)\n",
    "- Écrire une fonction qui renvoie les annotations ne correspondant à aucune image\n",
    "- Ecrire une fonction qui détecte les valeurs aberrantes pour les annotations (ex : hauteur == 0 et largeur != 0, etc)\n",
    "\n",
    "\n"
   ]
  },
  {
   "cell_type": "code",
   "execution_count": null,
   "id": "b940ca31",
   "metadata": {},
   "outputs": [
    {
     "name": "stdout",
     "output_type": "stream",
     "text": [
      "['.jpg', '.json']\n"
     ]
    },
    {
     "data": {
      "text/plain": [
       "(set(), {'_annotations.coco.json'})"
      ]
     },
     "metadata": {},
     "output_type": "display_data"
    },
    {
     "data": {
      "application/vnd.microsoft.datawrangler.viewer.v0+json": {
       "columns": [
        {
         "name": "index",
         "rawType": "int64",
         "type": "integer"
        },
        {
         "name": "id",
         "rawType": "int64",
         "type": "integer"
        },
        {
         "name": "license",
         "rawType": "int64",
         "type": "integer"
        },
        {
         "name": "file_name",
         "rawType": "object",
         "type": "string"
        },
        {
         "name": "height",
         "rawType": "int64",
         "type": "integer"
        },
        {
         "name": "width",
         "rawType": "int64",
         "type": "integer"
        },
        {
         "name": "date_captured",
         "rawType": "object",
         "type": "string"
        },
        {
         "name": "extra",
         "rawType": "object",
         "type": "unknown"
        }
       ],
       "ref": "9e855754-70a1-469f-a5b5-f079016b047e",
       "rows": [
        [
         "0",
         "0",
         "1",
         "cl6e1qges001kgk555z158f33_2_FALSE_COLOR_jpg.rf.479904c9e54c6ba121689341598bf3ed.jpg",
         "860",
         "1200",
         "2025-09-14T12:06:19+00:00",
         "{'name': 'cl6e1qges001kgk555z158f33_2_FALSE_COLOR.jpg'}"
        ],
        [
         "96",
         "96",
         "1",
         "cl6kf5xzo000gc4552qc8hhcc_2_FALSE_COLOR_jpg.rf.8fbfb16c6d86076d860904397218acd5.jpg",
         "860",
         "1200",
         "2025-09-14T12:06:19+00:00",
         "{'name': 'cl6kf5xzo000gc4552qc8hhcc_2_FALSE_COLOR.jpg'}"
        ],
        [
         "118",
         "118",
         "1",
         "cl6e2kygp002egk55asrs2brz_1_TRUE_COLOR_jpg.rf.2a198a37785242fb6db3ef21c0ffdcad.jpg",
         "860",
         "1200",
         "2025-09-14T12:06:19+00:00",
         "{'name': 'cl6e2kygp002egk55asrs2brz_1_TRUE_COLOR.jpg'}"
        ],
        [
         "122",
         "122",
         "1",
         "cl6e3enfn003sgk554uim9wo6_1_TRUE_COLOR_jpg.rf.beaf169c01f4596cb24c1c4628ef21f1.jpg",
         "860",
         "1200",
         "2025-09-14T12:06:19+00:00",
         "{'name': 'cl6e3enfn003sgk554uim9wo6_1_TRUE_COLOR.jpg'}"
        ],
        [
         "209",
         "209",
         "1",
         "cl6kfx47x001tc45578ts0yz6_2_FALSE_COLOR_jpg.rf.5a9501946306fabdad807a6acb61ccbe.jpg",
         "860",
         "1200",
         "2025-09-14T12:06:19+00:00",
         "{'name': 'cl6kfx47x001tc45578ts0yz6_2_FALSE_COLOR.jpg'}"
        ],
        [
         "290",
         "290",
         "1",
         "cl6b5x63r005il4551chxdt93_2_FALSE_COLOR_jpg.rf.8c4fb06b6812031edb1ad781ec14d2b9.jpg",
         "860",
         "1200",
         "2025-09-14T12:06:19+00:00",
         "{'name': 'cl6b5x63r005il4551chxdt93_2_FALSE_COLOR.jpg'}"
        ],
        [
         "451",
         "451",
         "1",
         "cl6b5myi60048l45530d5anq4_1_TRUE_COLOR_jpg.rf.1b9e229b9d66a61c1d9a410fd8ad6f23.jpg",
         "860",
         "1200",
         "2025-09-14T12:06:19+00:00",
         "{'name': 'cl6b5myi60048l45530d5anq4_1_TRUE_COLOR.jpg'}"
        ]
       ],
       "shape": {
        "columns": 7,
        "rows": 7
       }
      },
      "text/html": [
       "<div>\n",
       "<style scoped>\n",
       "    .dataframe tbody tr th:only-of-type {\n",
       "        vertical-align: middle;\n",
       "    }\n",
       "\n",
       "    .dataframe tbody tr th {\n",
       "        vertical-align: top;\n",
       "    }\n",
       "\n",
       "    .dataframe thead th {\n",
       "        text-align: right;\n",
       "    }\n",
       "</style>\n",
       "<table border=\"1\" class=\"dataframe\">\n",
       "  <thead>\n",
       "    <tr style=\"text-align: right;\">\n",
       "      <th></th>\n",
       "      <th>id</th>\n",
       "      <th>license</th>\n",
       "      <th>file_name</th>\n",
       "      <th>height</th>\n",
       "      <th>width</th>\n",
       "      <th>date_captured</th>\n",
       "      <th>extra</th>\n",
       "    </tr>\n",
       "  </thead>\n",
       "  <tbody>\n",
       "    <tr>\n",
       "      <th>0</th>\n",
       "      <td>0</td>\n",
       "      <td>1</td>\n",
       "      <td>cl6e1qges001kgk555z158f33_2_FALSE_COLOR_jpg.rf...</td>\n",
       "      <td>860</td>\n",
       "      <td>1200</td>\n",
       "      <td>2025-09-14T12:06:19+00:00</td>\n",
       "      <td>{'name': 'cl6e1qges001kgk555z158f33_2_FALSE_CO...</td>\n",
       "    </tr>\n",
       "    <tr>\n",
       "      <th>96</th>\n",
       "      <td>96</td>\n",
       "      <td>1</td>\n",
       "      <td>cl6kf5xzo000gc4552qc8hhcc_2_FALSE_COLOR_jpg.rf...</td>\n",
       "      <td>860</td>\n",
       "      <td>1200</td>\n",
       "      <td>2025-09-14T12:06:19+00:00</td>\n",
       "      <td>{'name': 'cl6kf5xzo000gc4552qc8hhcc_2_FALSE_CO...</td>\n",
       "    </tr>\n",
       "    <tr>\n",
       "      <th>118</th>\n",
       "      <td>118</td>\n",
       "      <td>1</td>\n",
       "      <td>cl6e2kygp002egk55asrs2brz_1_TRUE_COLOR_jpg.rf....</td>\n",
       "      <td>860</td>\n",
       "      <td>1200</td>\n",
       "      <td>2025-09-14T12:06:19+00:00</td>\n",
       "      <td>{'name': 'cl6e2kygp002egk55asrs2brz_1_TRUE_COL...</td>\n",
       "    </tr>\n",
       "    <tr>\n",
       "      <th>122</th>\n",
       "      <td>122</td>\n",
       "      <td>1</td>\n",
       "      <td>cl6e3enfn003sgk554uim9wo6_1_TRUE_COLOR_jpg.rf....</td>\n",
       "      <td>860</td>\n",
       "      <td>1200</td>\n",
       "      <td>2025-09-14T12:06:19+00:00</td>\n",
       "      <td>{'name': 'cl6e3enfn003sgk554uim9wo6_1_TRUE_COL...</td>\n",
       "    </tr>\n",
       "    <tr>\n",
       "      <th>209</th>\n",
       "      <td>209</td>\n",
       "      <td>1</td>\n",
       "      <td>cl6kfx47x001tc45578ts0yz6_2_FALSE_COLOR_jpg.rf...</td>\n",
       "      <td>860</td>\n",
       "      <td>1200</td>\n",
       "      <td>2025-09-14T12:06:19+00:00</td>\n",
       "      <td>{'name': 'cl6kfx47x001tc45578ts0yz6_2_FALSE_CO...</td>\n",
       "    </tr>\n",
       "    <tr>\n",
       "      <th>290</th>\n",
       "      <td>290</td>\n",
       "      <td>1</td>\n",
       "      <td>cl6b5x63r005il4551chxdt93_2_FALSE_COLOR_jpg.rf...</td>\n",
       "      <td>860</td>\n",
       "      <td>1200</td>\n",
       "      <td>2025-09-14T12:06:19+00:00</td>\n",
       "      <td>{'name': 'cl6b5x63r005il4551chxdt93_2_FALSE_CO...</td>\n",
       "    </tr>\n",
       "    <tr>\n",
       "      <th>451</th>\n",
       "      <td>451</td>\n",
       "      <td>1</td>\n",
       "      <td>cl6b5myi60048l45530d5anq4_1_TRUE_COLOR_jpg.rf....</td>\n",
       "      <td>860</td>\n",
       "      <td>1200</td>\n",
       "      <td>2025-09-14T12:06:19+00:00</td>\n",
       "      <td>{'name': 'cl6b5myi60048l45530d5anq4_1_TRUE_COL...</td>\n",
       "    </tr>\n",
       "  </tbody>\n",
       "</table>\n",
       "</div>"
      ],
      "text/plain": [
       "      id  license                                          file_name  height  \\\n",
       "0      0        1  cl6e1qges001kgk555z158f33_2_FALSE_COLOR_jpg.rf...     860   \n",
       "96    96        1  cl6kf5xzo000gc4552qc8hhcc_2_FALSE_COLOR_jpg.rf...     860   \n",
       "118  118        1  cl6e2kygp002egk55asrs2brz_1_TRUE_COLOR_jpg.rf....     860   \n",
       "122  122        1  cl6e3enfn003sgk554uim9wo6_1_TRUE_COLOR_jpg.rf....     860   \n",
       "209  209        1  cl6kfx47x001tc45578ts0yz6_2_FALSE_COLOR_jpg.rf...     860   \n",
       "290  290        1  cl6b5x63r005il4551chxdt93_2_FALSE_COLOR_jpg.rf...     860   \n",
       "451  451        1  cl6b5myi60048l45530d5anq4_1_TRUE_COLOR_jpg.rf....     860   \n",
       "\n",
       "     width              date_captured  \\\n",
       "0     1200  2025-09-14T12:06:19+00:00   \n",
       "96    1200  2025-09-14T12:06:19+00:00   \n",
       "118   1200  2025-09-14T12:06:19+00:00   \n",
       "122   1200  2025-09-14T12:06:19+00:00   \n",
       "209   1200  2025-09-14T12:06:19+00:00   \n",
       "290   1200  2025-09-14T12:06:19+00:00   \n",
       "451   1200  2025-09-14T12:06:19+00:00   \n",
       "\n",
       "                                                 extra  \n",
       "0    {'name': 'cl6e1qges001kgk555z158f33_2_FALSE_CO...  \n",
       "96   {'name': 'cl6kf5xzo000gc4552qc8hhcc_2_FALSE_CO...  \n",
       "118  {'name': 'cl6e2kygp002egk55asrs2brz_1_TRUE_COL...  \n",
       "122  {'name': 'cl6e3enfn003sgk554uim9wo6_1_TRUE_COL...  \n",
       "209  {'name': 'cl6kfx47x001tc45578ts0yz6_2_FALSE_CO...  \n",
       "290  {'name': 'cl6b5x63r005il4551chxdt93_2_FALSE_CO...  \n",
       "451  {'name': 'cl6b5myi60048l45530d5anq4_1_TRUE_COL...  "
      ]
     },
     "metadata": {},
     "output_type": "display_data"
    },
    {
     "data": {
      "application/vnd.microsoft.datawrangler.viewer.v0+json": {
       "columns": [
        {
         "name": "index",
         "rawType": "int64",
         "type": "integer"
        },
        {
         "name": "id",
         "rawType": "int64",
         "type": "integer"
        },
        {
         "name": "image_id",
         "rawType": "int64",
         "type": "integer"
        },
        {
         "name": "category_id",
         "rawType": "int64",
         "type": "integer"
        },
        {
         "name": "bbox",
         "rawType": "object",
         "type": "string"
        },
        {
         "name": "area",
         "rawType": "float64",
         "type": "float"
        },
        {
         "name": "segmentation",
         "rawType": "object",
         "type": "string"
        },
        {
         "name": "iscrowd",
         "rawType": "int64",
         "type": "integer"
        }
       ],
       "ref": "b5738ab2-91c6-424f-b9d9-f9e404fbefb5",
       "rows": [],
       "shape": {
        "columns": 7,
        "rows": 0
       }
      },
      "text/html": [
       "<div>\n",
       "<style scoped>\n",
       "    .dataframe tbody tr th:only-of-type {\n",
       "        vertical-align: middle;\n",
       "    }\n",
       "\n",
       "    .dataframe tbody tr th {\n",
       "        vertical-align: top;\n",
       "    }\n",
       "\n",
       "    .dataframe thead th {\n",
       "        text-align: right;\n",
       "    }\n",
       "</style>\n",
       "<table border=\"1\" class=\"dataframe\">\n",
       "  <thead>\n",
       "    <tr style=\"text-align: right;\">\n",
       "      <th></th>\n",
       "      <th>id</th>\n",
       "      <th>image_id</th>\n",
       "      <th>category_id</th>\n",
       "      <th>bbox</th>\n",
       "      <th>area</th>\n",
       "      <th>segmentation</th>\n",
       "      <th>iscrowd</th>\n",
       "    </tr>\n",
       "  </thead>\n",
       "  <tbody>\n",
       "  </tbody>\n",
       "</table>\n",
       "</div>"
      ],
      "text/plain": [
       "Empty DataFrame\n",
       "Columns: [id, image_id, category_id, bbox, area, segmentation, iscrowd]\n",
       "Index: []"
      ]
     },
     "metadata": {},
     "output_type": "display_data"
    },
    {
     "data": {
      "application/vnd.microsoft.datawrangler.viewer.v0+json": {
       "columns": [
        {
         "name": "index",
         "rawType": "int64",
         "type": "integer"
        },
        {
         "name": "id",
         "rawType": "int64",
         "type": "integer"
        },
        {
         "name": "image_id",
         "rawType": "int64",
         "type": "integer"
        },
        {
         "name": "category_id",
         "rawType": "int64",
         "type": "integer"
        },
        {
         "name": "bbox",
         "rawType": "object",
         "type": "string"
        },
        {
         "name": "area",
         "rawType": "float64",
         "type": "float"
        },
        {
         "name": "segmentation",
         "rawType": "object",
         "type": "string"
        },
        {
         "name": "iscrowd",
         "rawType": "int64",
         "type": "integer"
        }
       ],
       "ref": "8f44183e-cf19-457b-8719-9b1fb599d6ef",
       "rows": [],
       "shape": {
        "columns": 7,
        "rows": 0
       }
      },
      "text/html": [
       "<div>\n",
       "<style scoped>\n",
       "    .dataframe tbody tr th:only-of-type {\n",
       "        vertical-align: middle;\n",
       "    }\n",
       "\n",
       "    .dataframe tbody tr th {\n",
       "        vertical-align: top;\n",
       "    }\n",
       "\n",
       "    .dataframe thead th {\n",
       "        text-align: right;\n",
       "    }\n",
       "</style>\n",
       "<table border=\"1\" class=\"dataframe\">\n",
       "  <thead>\n",
       "    <tr style=\"text-align: right;\">\n",
       "      <th></th>\n",
       "      <th>id</th>\n",
       "      <th>image_id</th>\n",
       "      <th>category_id</th>\n",
       "      <th>bbox</th>\n",
       "      <th>area</th>\n",
       "      <th>segmentation</th>\n",
       "      <th>iscrowd</th>\n",
       "    </tr>\n",
       "  </thead>\n",
       "  <tbody>\n",
       "  </tbody>\n",
       "</table>\n",
       "</div>"
      ],
      "text/plain": [
       "Empty DataFrame\n",
       "Columns: [id, image_id, category_id, bbox, area, segmentation, iscrowd]\n",
       "Index: []"
      ]
     },
     "metadata": {},
     "output_type": "display_data"
    }
   ],
   "source": [
    "from data_cleaner import *\n",
    "\n",
    "print(get_image_extensions(path_dir))\n",
    "\n",
    "display(check_image_annotation_coherence(df_images, path_dir))\n",
    "\n",
    "display(img_without_ann(df_images, df_annotations))\n",
    "\n",
    "display(annotations_without_images(df_images,df_annotations))\n",
    "\n",
    "display(detect_invalid_bboxes(df_annotations))\n",
    "\n"
   ]
  },
  {
   "cell_type": "markdown",
   "id": "45f7e95f",
   "metadata": {},
   "source": [
    "## Utilisation de Fiftyone pour visualiser les images avec annotations"
   ]
  },
  {
   "cell_type": "markdown",
   "id": "4e245ac0",
   "metadata": {},
   "source": [
    "- Cf. visualisation.py"
   ]
  },
  {
   "cell_type": "code",
   "execution_count": null,
   "id": "612e6f5c",
   "metadata": {},
   "outputs": [
    {
     "name": "stderr",
     "output_type": "stream",
     "text": [
      "/home/gaetansimplon/wildfire_detection/.venv311/lib/python3.11/site-packages/tqdm/auto.py:21: TqdmWarning: IProgress not found. Please update jupyter and ipywidgets. See https://ipywidgets.readthedocs.io/en/stable/user_install.html\n",
      "  from .autonotebook import tqdm as notebook_tqdm\n"
     ]
    },
    {
     "name": "stdout",
     "output_type": "stream",
     "text": [
      " 100% |█████████████████| 500/500 [1.1s elapsed, 0s remaining, 438.2 samples/s]         \n"
     ]
    },
    {
     "data": {
      "text/html": [
       "\n",
       "        <iframe\n",
       "            width=\"100%\"\n",
       "            height=\"800\"\n",
       "            src=\"http://localhost:5151/?notebook=True&subscription=882c6925-46ca-4578-830b-36b5178092ee\"\n",
       "            frameborder=\"0\"\n",
       "            allowfullscreen\n",
       "            \n",
       "        ></iframe>\n",
       "        "
      ],
      "text/plain": [
       "<IPython.lib.display.IFrame at 0x7c9cd8529890>"
      ]
     },
     "metadata": {},
     "output_type": "display_data"
    }
   ],
   "source": [
    "import fiftyone as fo\n",
    "\n",
    "dataset = fo.Dataset.from_dir(\n",
    "    dataset_type=fo.types.COCODetectionDataset,\n",
    "    data_path='/home/gaetansimplon/wildfire_detection/data', # Dossier contenant les images\n",
    "    labels_path='/home/gaetansimplon/wildfire_detection/data/_annotations_clean.coco.json'\n",
    ")\n",
    "\n",
    "session = fo.launch_app(dataset)"
   ]
  }
 ],
 "metadata": {
  "kernelspec": {
   "display_name": ".venv",
   "language": "python",
   "name": "python3"
  },
  "language_info": {
   "codemirror_mode": {
    "name": "ipython",
    "version": 3
   },
   "file_extension": ".py",
   "mimetype": "text/x-python",
   "name": "python",
   "nbconvert_exporter": "python",
   "pygments_lexer": "ipython3",
   "version": "3.12.3"
  }
 },
 "nbformat": 4,
 "nbformat_minor": 5
}
