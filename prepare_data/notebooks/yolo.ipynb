{
 "cells": [
  {
   "cell_type": "markdown",
   "id": "79e2f849",
   "metadata": {},
   "source": [
    "# Modèle - YOLOv8\n",
    "## Run 1\n",
    "### Paramètres :\n",
    "- Modèle : v8n (version nano)\n",
    "- epochs : 100\n",
    "- imgsz : 640\n",
    "- batch : 16\n",
    "\n",
    "## Run 2 \n",
    "### Paramètres :\n",
    "- Modèle : v8n (version nano)\n",
    "- epochs : 100\n",
    "- imgsz : 960\n",
    "- batch : 32\n",
    "\n",
    "## Run 3\n",
    "### Paramètres : \n",
    "\n",
    "- Modèle : v8m (version medium)\n",
    "- epochs : 100\n",
    "- imgsz : 640\n",
    "- batch : 32"
   ]
  },
  {
   "cell_type": "code",
   "execution_count": 2,
   "id": "6ad40ece",
   "metadata": {},
   "outputs": [],
   "source": [
    "import pandas as pd\n"
   ]
  },
  {
   "cell_type": "code",
   "execution_count": 4,
   "id": "6cbe59f6",
   "metadata": {},
   "outputs": [
    {
     "data": {
      "text/plain": [
       "Index(['epoch', 'time', 'train/box_loss', 'train/cls_loss', 'train/dfl_loss',\n",
       "       'metrics/precision(B)', 'metrics/recall(B)', 'metrics/mAP50(B)',\n",
       "       'metrics/mAP50-95(B)', 'val/box_loss', 'val/cls_loss', 'val/dfl_loss',\n",
       "       'lr/pg0', 'lr/pg1', 'lr/pg2'],\n",
       "      dtype='object')"
      ]
     },
     "metadata": {},
     "output_type": "display_data"
    },
    {
     "data": {
      "text/plain": [
       "'Aperçu des métriques run 1 : '"
      ]
     },
     "metadata": {},
     "output_type": "display_data"
    },
    {
     "data": {
      "application/vnd.microsoft.datawrangler.viewer.v0+json": {
       "columns": [
        {
         "name": "index",
         "rawType": "object",
         "type": "string"
        },
        {
         "name": "metrics/precision(B)",
         "rawType": "float64",
         "type": "float"
        },
        {
         "name": "metrics/recall(B)",
         "rawType": "float64",
         "type": "float"
        },
        {
         "name": "metrics/mAP50(B)",
         "rawType": "float64",
         "type": "float"
        }
       ],
       "ref": "3aea04d8-9e3f-4404-b8f4-be3ef6a23611",
       "rows": [
        [
         "count",
         "100.0",
         "100.0",
         "100.0"
        ],
        [
         "mean",
         "0.4986363000000001",
         "0.3798856",
         "0.3787373"
        ],
        [
         "std",
         "0.13059656381433285",
         "0.07663889854599577",
         "0.09970885094756046"
        ],
        [
         "min",
         "0.00918",
         "0.09",
         "0.02954"
        ],
        [
         "25%",
         "0.44864",
         "0.365",
         "0.37005"
        ],
        [
         "50%",
         "0.511415",
         "0.395",
         "0.40217499999999995"
        ],
        [
         "75%",
         "0.5791875",
         "0.41866499999999995",
         "0.444475"
        ],
        [
         "max",
         "0.70725",
         "0.635",
         "0.49143"
        ]
       ],
       "shape": {
        "columns": 3,
        "rows": 8
       }
      },
      "text/html": [
       "<div>\n",
       "<style scoped>\n",
       "    .dataframe tbody tr th:only-of-type {\n",
       "        vertical-align: middle;\n",
       "    }\n",
       "\n",
       "    .dataframe tbody tr th {\n",
       "        vertical-align: top;\n",
       "    }\n",
       "\n",
       "    .dataframe thead th {\n",
       "        text-align: right;\n",
       "    }\n",
       "</style>\n",
       "<table border=\"1\" class=\"dataframe\">\n",
       "  <thead>\n",
       "    <tr style=\"text-align: right;\">\n",
       "      <th></th>\n",
       "      <th>metrics/precision(B)</th>\n",
       "      <th>metrics/recall(B)</th>\n",
       "      <th>metrics/mAP50(B)</th>\n",
       "    </tr>\n",
       "  </thead>\n",
       "  <tbody>\n",
       "    <tr>\n",
       "      <th>count</th>\n",
       "      <td>100.000000</td>\n",
       "      <td>100.000000</td>\n",
       "      <td>100.000000</td>\n",
       "    </tr>\n",
       "    <tr>\n",
       "      <th>mean</th>\n",
       "      <td>0.498636</td>\n",
       "      <td>0.379886</td>\n",
       "      <td>0.378737</td>\n",
       "    </tr>\n",
       "    <tr>\n",
       "      <th>std</th>\n",
       "      <td>0.130597</td>\n",
       "      <td>0.076639</td>\n",
       "      <td>0.099709</td>\n",
       "    </tr>\n",
       "    <tr>\n",
       "      <th>min</th>\n",
       "      <td>0.009180</td>\n",
       "      <td>0.090000</td>\n",
       "      <td>0.029540</td>\n",
       "    </tr>\n",
       "    <tr>\n",
       "      <th>25%</th>\n",
       "      <td>0.448640</td>\n",
       "      <td>0.365000</td>\n",
       "      <td>0.370050</td>\n",
       "    </tr>\n",
       "    <tr>\n",
       "      <th>50%</th>\n",
       "      <td>0.511415</td>\n",
       "      <td>0.395000</td>\n",
       "      <td>0.402175</td>\n",
       "    </tr>\n",
       "    <tr>\n",
       "      <th>75%</th>\n",
       "      <td>0.579187</td>\n",
       "      <td>0.418665</td>\n",
       "      <td>0.444475</td>\n",
       "    </tr>\n",
       "    <tr>\n",
       "      <th>max</th>\n",
       "      <td>0.707250</td>\n",
       "      <td>0.635000</td>\n",
       "      <td>0.491430</td>\n",
       "    </tr>\n",
       "  </tbody>\n",
       "</table>\n",
       "</div>"
      ],
      "text/plain": [
       "       metrics/precision(B)  metrics/recall(B)  metrics/mAP50(B)\n",
       "count            100.000000         100.000000        100.000000\n",
       "mean               0.498636           0.379886          0.378737\n",
       "std                0.130597           0.076639          0.099709\n",
       "min                0.009180           0.090000          0.029540\n",
       "25%                0.448640           0.365000          0.370050\n",
       "50%                0.511415           0.395000          0.402175\n",
       "75%                0.579187           0.418665          0.444475\n",
       "max                0.707250           0.635000          0.491430"
      ]
     },
     "metadata": {},
     "output_type": "display_data"
    },
    {
     "data": {
      "text/plain": [
       "'Aperçu des métriques run 2 : '"
      ]
     },
     "metadata": {},
     "output_type": "display_data"
    },
    {
     "data": {
      "application/vnd.microsoft.datawrangler.viewer.v0+json": {
       "columns": [
        {
         "name": "index",
         "rawType": "object",
         "type": "string"
        },
        {
         "name": "metrics/precision(B)",
         "rawType": "float64",
         "type": "float"
        },
        {
         "name": "metrics/recall(B)",
         "rawType": "float64",
         "type": "float"
        },
        {
         "name": "metrics/mAP50(B)",
         "rawType": "float64",
         "type": "float"
        }
       ],
       "ref": "64721f71-05d4-4cc1-952d-41e3c12bbd28",
       "rows": [
        [
         "count",
         "100.0",
         "100.0",
         "100.0"
        ],
        [
         "mean",
         "0.45767920000000006",
         "0.35334139999999997",
         "0.3293784"
        ],
        [
         "std",
         "0.16322678700915894",
         "0.09077338669099845",
         "0.12252893720244047"
        ],
        [
         "min",
         "0.00879",
         "0.08",
         "0.02329"
        ],
        [
         "25%",
         "0.39692500000000003",
         "0.31375",
         "0.2648725"
        ],
        [
         "50%",
         "0.495475",
         "0.38295999999999997",
         "0.37689"
        ],
        [
         "75%",
         "0.566275",
         "0.4109825",
         "0.42288000000000003"
        ],
        [
         "max",
         "0.73893",
         "0.53",
         "0.47139"
        ]
       ],
       "shape": {
        "columns": 3,
        "rows": 8
       }
      },
      "text/html": [
       "<div>\n",
       "<style scoped>\n",
       "    .dataframe tbody tr th:only-of-type {\n",
       "        vertical-align: middle;\n",
       "    }\n",
       "\n",
       "    .dataframe tbody tr th {\n",
       "        vertical-align: top;\n",
       "    }\n",
       "\n",
       "    .dataframe thead th {\n",
       "        text-align: right;\n",
       "    }\n",
       "</style>\n",
       "<table border=\"1\" class=\"dataframe\">\n",
       "  <thead>\n",
       "    <tr style=\"text-align: right;\">\n",
       "      <th></th>\n",
       "      <th>metrics/precision(B)</th>\n",
       "      <th>metrics/recall(B)</th>\n",
       "      <th>metrics/mAP50(B)</th>\n",
       "    </tr>\n",
       "  </thead>\n",
       "  <tbody>\n",
       "    <tr>\n",
       "      <th>count</th>\n",
       "      <td>100.000000</td>\n",
       "      <td>100.000000</td>\n",
       "      <td>100.000000</td>\n",
       "    </tr>\n",
       "    <tr>\n",
       "      <th>mean</th>\n",
       "      <td>0.457679</td>\n",
       "      <td>0.353341</td>\n",
       "      <td>0.329378</td>\n",
       "    </tr>\n",
       "    <tr>\n",
       "      <th>std</th>\n",
       "      <td>0.163227</td>\n",
       "      <td>0.090773</td>\n",
       "      <td>0.122529</td>\n",
       "    </tr>\n",
       "    <tr>\n",
       "      <th>min</th>\n",
       "      <td>0.008790</td>\n",
       "      <td>0.080000</td>\n",
       "      <td>0.023290</td>\n",
       "    </tr>\n",
       "    <tr>\n",
       "      <th>25%</th>\n",
       "      <td>0.396925</td>\n",
       "      <td>0.313750</td>\n",
       "      <td>0.264873</td>\n",
       "    </tr>\n",
       "    <tr>\n",
       "      <th>50%</th>\n",
       "      <td>0.495475</td>\n",
       "      <td>0.382960</td>\n",
       "      <td>0.376890</td>\n",
       "    </tr>\n",
       "    <tr>\n",
       "      <th>75%</th>\n",
       "      <td>0.566275</td>\n",
       "      <td>0.410982</td>\n",
       "      <td>0.422880</td>\n",
       "    </tr>\n",
       "    <tr>\n",
       "      <th>max</th>\n",
       "      <td>0.738930</td>\n",
       "      <td>0.530000</td>\n",
       "      <td>0.471390</td>\n",
       "    </tr>\n",
       "  </tbody>\n",
       "</table>\n",
       "</div>"
      ],
      "text/plain": [
       "       metrics/precision(B)  metrics/recall(B)  metrics/mAP50(B)\n",
       "count            100.000000         100.000000        100.000000\n",
       "mean               0.457679           0.353341          0.329378\n",
       "std                0.163227           0.090773          0.122529\n",
       "min                0.008790           0.080000          0.023290\n",
       "25%                0.396925           0.313750          0.264873\n",
       "50%                0.495475           0.382960          0.376890\n",
       "75%                0.566275           0.410982          0.422880\n",
       "max                0.738930           0.530000          0.471390"
      ]
     },
     "metadata": {},
     "output_type": "display_data"
    },
    {
     "data": {
      "text/plain": [
       "'Aperçu des métriques run 3: '"
      ]
     },
     "metadata": {},
     "output_type": "display_data"
    },
    {
     "data": {
      "application/vnd.microsoft.datawrangler.viewer.v0+json": {
       "columns": [
        {
         "name": "index",
         "rawType": "object",
         "type": "string"
        },
        {
         "name": "metrics/precision(B)",
         "rawType": "float64",
         "type": "float"
        },
        {
         "name": "metrics/recall(B)",
         "rawType": "float64",
         "type": "float"
        },
        {
         "name": "metrics/mAP50(B)",
         "rawType": "float64",
         "type": "float"
        }
       ],
       "ref": "108177ce-4e3c-4693-8986-acc8abd26253",
       "rows": [
        [
         "count",
         "100.0",
         "100.0",
         "100.0"
        ],
        [
         "mean",
         "0.4316029",
         "0.3944647",
         "0.3429322000000001"
        ],
        [
         "std",
         "0.19327790028865147",
         "0.11288851339026769",
         "0.15937624457397986"
        ],
        [
         "min",
         "0.00183",
         "0.05",
         "0.00115"
        ],
        [
         "25%",
         "0.4003",
         "0.35624999999999996",
         "0.3297575"
        ],
        [
         "50%",
         "0.49992000000000003",
         "0.439465",
         "0.42684"
        ],
        [
         "75%",
         "0.55586",
         "0.465",
         "0.4434825"
        ],
        [
         "max",
         "0.63597",
         "0.52849",
         "0.47489"
        ]
       ],
       "shape": {
        "columns": 3,
        "rows": 8
       }
      },
      "text/html": [
       "<div>\n",
       "<style scoped>\n",
       "    .dataframe tbody tr th:only-of-type {\n",
       "        vertical-align: middle;\n",
       "    }\n",
       "\n",
       "    .dataframe tbody tr th {\n",
       "        vertical-align: top;\n",
       "    }\n",
       "\n",
       "    .dataframe thead th {\n",
       "        text-align: right;\n",
       "    }\n",
       "</style>\n",
       "<table border=\"1\" class=\"dataframe\">\n",
       "  <thead>\n",
       "    <tr style=\"text-align: right;\">\n",
       "      <th></th>\n",
       "      <th>metrics/precision(B)</th>\n",
       "      <th>metrics/recall(B)</th>\n",
       "      <th>metrics/mAP50(B)</th>\n",
       "    </tr>\n",
       "  </thead>\n",
       "  <tbody>\n",
       "    <tr>\n",
       "      <th>count</th>\n",
       "      <td>100.000000</td>\n",
       "      <td>100.000000</td>\n",
       "      <td>100.000000</td>\n",
       "    </tr>\n",
       "    <tr>\n",
       "      <th>mean</th>\n",
       "      <td>0.431603</td>\n",
       "      <td>0.394465</td>\n",
       "      <td>0.342932</td>\n",
       "    </tr>\n",
       "    <tr>\n",
       "      <th>std</th>\n",
       "      <td>0.193278</td>\n",
       "      <td>0.112889</td>\n",
       "      <td>0.159376</td>\n",
       "    </tr>\n",
       "    <tr>\n",
       "      <th>min</th>\n",
       "      <td>0.001830</td>\n",
       "      <td>0.050000</td>\n",
       "      <td>0.001150</td>\n",
       "    </tr>\n",
       "    <tr>\n",
       "      <th>25%</th>\n",
       "      <td>0.400300</td>\n",
       "      <td>0.356250</td>\n",
       "      <td>0.329757</td>\n",
       "    </tr>\n",
       "    <tr>\n",
       "      <th>50%</th>\n",
       "      <td>0.499920</td>\n",
       "      <td>0.439465</td>\n",
       "      <td>0.426840</td>\n",
       "    </tr>\n",
       "    <tr>\n",
       "      <th>75%</th>\n",
       "      <td>0.555860</td>\n",
       "      <td>0.465000</td>\n",
       "      <td>0.443483</td>\n",
       "    </tr>\n",
       "    <tr>\n",
       "      <th>max</th>\n",
       "      <td>0.635970</td>\n",
       "      <td>0.528490</td>\n",
       "      <td>0.474890</td>\n",
       "    </tr>\n",
       "  </tbody>\n",
       "</table>\n",
       "</div>"
      ],
      "text/plain": [
       "       metrics/precision(B)  metrics/recall(B)  metrics/mAP50(B)\n",
       "count            100.000000         100.000000        100.000000\n",
       "mean               0.431603           0.394465          0.342932\n",
       "std                0.193278           0.112889          0.159376\n",
       "min                0.001830           0.050000          0.001150\n",
       "25%                0.400300           0.356250          0.329757\n",
       "50%                0.499920           0.439465          0.426840\n",
       "75%                0.555860           0.465000          0.443483\n",
       "max                0.635970           0.528490          0.474890"
      ]
     },
     "metadata": {},
     "output_type": "display_data"
    }
   ],
   "source": [
    "# Résultat 1er entrainement\n",
    "df_results = pd.read_csv('/home/gaetansimplon/wildfire_detection/runs/detect/train/results.csv')\n",
    "display(df_results.columns)\n",
    "metrics_run1 = df_results[['metrics/precision(B)', 'metrics/recall(B)', 'metrics/mAP50(B)']]\n",
    "display('Aperçu des métriques run 1 : ',metrics_run1.describe())\n",
    "# display('Aperçu des 5 derniers epochs : ',df_results.tail())\n",
    "\n",
    "# Résultat 2ème entrainement\n",
    "\n",
    "df_results2 = pd.read_csv('/home/gaetansimplon/wildfire_detection/runs2/detect/train2/results.csv')\n",
    "metrics_run2 = df_results2[['metrics/precision(B)', 'metrics/recall(B)', 'metrics/mAP50(B)']]\n",
    "display('Aperçu des métriques run 2 : ',metrics_run2.describe())\n",
    "# display('Aperçu des 5 derniers epochs : ',df_results2.tail())\n",
    "\n",
    "# Résultats 3ème entrainement\n",
    "\n",
    "df_results3 = pd.read_csv('/home/gaetansimplon/wildfire_detection/runs3/detect/train3/results.csv')\n",
    "metrics_run3 = df_results3[['metrics/precision(B)', 'metrics/recall(B)', 'metrics/mAP50(B)']]\n",
    "display('Aperçu des métriques run 3: ',metrics_run3.describe())\n",
    "# display('Aperçu des 5 derniers epochs : ',df_results3.tail())"
   ]
  }
 ],
 "metadata": {
  "kernelspec": {
   "display_name": ".venv311",
   "language": "python",
   "name": "python3"
  },
  "language_info": {
   "codemirror_mode": {
    "name": "ipython",
    "version": 3
   },
   "file_extension": ".py",
   "mimetype": "text/x-python",
   "name": "python",
   "nbconvert_exporter": "python",
   "pygments_lexer": "ipython3",
   "version": "3.11.13"
  }
 },
 "nbformat": 4,
 "nbformat_minor": 5
}
